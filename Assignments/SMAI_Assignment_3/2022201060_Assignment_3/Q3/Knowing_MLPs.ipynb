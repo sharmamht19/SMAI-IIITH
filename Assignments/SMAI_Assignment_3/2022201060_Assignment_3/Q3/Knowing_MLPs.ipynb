{
  "cells": [
    {
      "cell_type": "markdown",
      "id": "a736d316-20aa-4263-84c3-8afc5c4a9cc6",
      "metadata": {
        "jp-MarkdownHeadingCollapsed": true,
        "tags": [],
        "id": "a736d316-20aa-4263-84c3-8afc5c4a9cc6"
      },
      "source": [
        "# SMAI Assignment - 3\n",
        "\n",
        "## Question - `3` : Knowing MLPs\n",
        "\n",
        "| | |\n",
        "|- | -|\n",
        "| Course | Statistical Methods in AI |\n",
        "| Release Date | `09.03.2023` |\n",
        "| Due Date | `24.03.2023` |"
      ]
    },
    {
      "cell_type": "markdown",
      "id": "1c86307a-7690-40cf-9eb2-e29fab7b15b5",
      "metadata": {
        "jp-MarkdownHeadingCollapsed": true,
        "tags": [],
        "id": "1c86307a-7690-40cf-9eb2-e29fab7b15b5"
      },
      "source": [
        "## Please read the following before moving on\n",
        "\n",
        "Welcome to the world of Multilayer Perceptrons (MLP)! You already know that MLPs are feedforward neural networks consisting of multiple layers of nodes or neurons. These networks are well-suited for a wide range of classification and regression tasks, thanks to their ability to learn complex, non-linear relationships between inputs and outputs.\n",
        "\n",
        "In this assignment, we will be working with the MNIST dataset to explore the importance of different MLP components. The MNIST dataset consists of 70,000 handwritten digit images, each of which is 28x28 pixels in size. Our goal is to use an MLP to classify these images into one of 10 categories (0-9).\n",
        "\n",
        "To improve the performance of our MLP, we will experiment with various techniques such as Dropout, Batch Normalization, Loss Functions, Stochastic batch and mini-batch gradient descent, and more. Please note, you must use mini-batch unless explicity specified.\n",
        "\n",
        "In addition, we will experiment with different optimization algorithms such as stochastic gradient descent, Adam, and RMSprop to find the optimal weights and biases for our MLP. We will use stochastic batch and mini-batch gradient descent, which involve updating the weights and biases of the network based on a small batch of randomly sampled training examples, to speed up the training process and reduce memory usage.\n",
        "\n",
        "By the end of this assignment, you will have gained a deeper understanding of the various components that make up an MLP and their importance in achieving high performance in classification tasks. You will have gained hands-on experience in experimenting with these components and learned how to fine-tune an MLP to achieve the best possible performance on the MNIST dataset. So, let's get started!\n",
        "\n",
        "🫵Pro-tip: Do not re-write any results so as to re-use them in later experiments for tabulation and plotting.\n",
        "\n",
        "💭Trivia: Did you know code written using ChatGPT is easy to catch?"
      ]
    },
    {
      "cell_type": "markdown",
      "id": "436f25c4",
      "metadata": {
        "jp-MarkdownHeadingCollapsed": true,
        "tags": [],
        "id": "436f25c4"
      },
      "source": [
        "### Step zero: Import Libraries"
      ]
    },
    {
      "cell_type": "code",
      "execution_count": 1,
      "id": "1009eb09",
      "metadata": {
        "id": "1009eb09"
      },
      "outputs": [],
      "source": [
        "import warnings\n",
        "warnings.filterwarnings(\"ignore\")\n",
        "\n",
        "import numpy as np\n",
        "import pandas as pd\n",
        "\n",
        "import matplotlib\n",
        "import seaborn as sns\n",
        "%matplotlib inline\n",
        "import time\n",
        "import torch\n",
        "import torchvision\n",
        "from torchvision import datasets\n",
        "from torchvision import transforms\n",
        "from torch.autograd import Variable\n",
        "import torch.nn as nn\n",
        "from tqdm import tqdm\n",
        "import matplotlib.pyplot as plt\n",
        "from sklearn.metrics import accuracy_score, f1_score, precision_score\n"
      ]
    },
    {
      "cell_type": "markdown",
      "id": "5e0546f0",
      "metadata": {
        "jp-MarkdownHeadingCollapsed": true,
        "tags": [],
        "id": "5e0546f0"
      },
      "source": [
        "### Step one: Using a PyTorch Dataset\n",
        "Load MNIST dataset from `torchvision.datasets`"
      ]
    },
    {
      "cell_type": "code",
      "execution_count": 2,
      "id": "4d54d14d",
      "metadata": {
        "colab": {
          "base_uri": "https://localhost:8080/",
          "height": 466,
          "referenced_widgets": [
            "df3af8f4cf134502a556914575e5ac7d",
            "3240d30e289145d3a42835626130337f",
            "51fe13bd187e4b99a8879f8f1b2274e5",
            "0a115e41aaf8484b8bf40ab7972a9027",
            "8dbf1b56786f401c9a682cbbf5af4b79",
            "b693026de58343c4978bf3c1b6612b2a",
            "2c5f900bd3684fec911daec5f1745053",
            "d4edcd3c90184245abc739148a174b7e",
            "df868423ff7144b69c5f0854db2ac123",
            "8e4e7af1897c40ebac3372184d37e9ea",
            "f731e4d5bf914040aee69b45bfa0d657",
            "55d632a50f4d4ac88c486f3f55f74e43",
            "f0f08aa9e81a4d4c8ad8e3197faa1a71",
            "35987412e2b447febe80c5ab3ce5aba2",
            "c3063c0817c54471a9ff108cf7bf217e",
            "62b8e660702e4e72bc81b4fb11246e6a",
            "1c8d5e29572940e2bd61d5546babc3d7",
            "74a79574a43a490ba33c1cb86e11adc1",
            "53f5d29de2e149c59f45974f69f4ae6d",
            "9d61535d75eb4af180f2d61608391786",
            "4279f33552624b489f0a90ba3018feda",
            "55c4ef552ac34a38ad0375421d7a40a8",
            "92a868e8071e42b4b2438c5e184f95fa",
            "bdaa3f33f27f480a8b117b49576b0d02",
            "0c232b2d651c4f1b9592a6d1109a0947",
            "30c9b7904fb44945b941457d6dc9560e",
            "bdca1ea1c0d242aab382139795c66f6c",
            "6b2c0cdf251c4203aafe6ff41a6c188b",
            "afd11b9829044fe383359308294334f0",
            "1a4195f65f0f4ca3bcaa831a777cec3b",
            "cf1ca6e6bd5a4df6b4a853d6ef6bd692",
            "4673cf0810084193ba613f3aaf0699f3",
            "3e87df337d804006a96c51fed1dd18e9",
            "cc41089e365f42c8be44b21195446d5b",
            "f312908f5aad4ecc9acdc076b4678538",
            "c9b1dd9e03ac4e1f9be12bcd4a4045f3",
            "dfb290fa34df4fb9acd675fe18d736da",
            "fc8bcdc139d14b71b93e635fc9c04244",
            "c8075060b21f4f83babc108793b43c6c",
            "70fe9ba54bf54ff98ddb4da5f1e9ba71",
            "67a89a04035748948447d41976a3e382",
            "24f81d1fbf3e49e3a437095e84ace678",
            "ddae2ab4630449c09b9a672bb6adba2b",
            "ba1dd60ba9ca402fae75b2eb1166caa9"
          ]
        },
        "id": "4d54d14d",
        "outputId": "170e62b7-4728-49b6-e01b-190be66a736f"
      },
      "outputs": [
        {
          "output_type": "stream",
          "name": "stdout",
          "text": [
            "Downloading http://yann.lecun.com/exdb/mnist/train-images-idx3-ubyte.gz\n",
            "Downloading http://yann.lecun.com/exdb/mnist/train-images-idx3-ubyte.gz to ./data/MNIST/raw/train-images-idx3-ubyte.gz\n"
          ]
        },
        {
          "output_type": "display_data",
          "data": {
            "text/plain": [
              "  0%|          | 0/9912422 [00:00<?, ?it/s]"
            ],
            "application/vnd.jupyter.widget-view+json": {
              "version_major": 2,
              "version_minor": 0,
              "model_id": "df3af8f4cf134502a556914575e5ac7d"
            }
          },
          "metadata": {}
        },
        {
          "output_type": "stream",
          "name": "stdout",
          "text": [
            "Extracting ./data/MNIST/raw/train-images-idx3-ubyte.gz to ./data/MNIST/raw\n",
            "\n",
            "Downloading http://yann.lecun.com/exdb/mnist/train-labels-idx1-ubyte.gz\n",
            "Downloading http://yann.lecun.com/exdb/mnist/train-labels-idx1-ubyte.gz to ./data/MNIST/raw/train-labels-idx1-ubyte.gz\n"
          ]
        },
        {
          "output_type": "display_data",
          "data": {
            "text/plain": [
              "  0%|          | 0/28881 [00:00<?, ?it/s]"
            ],
            "application/vnd.jupyter.widget-view+json": {
              "version_major": 2,
              "version_minor": 0,
              "model_id": "55d632a50f4d4ac88c486f3f55f74e43"
            }
          },
          "metadata": {}
        },
        {
          "output_type": "stream",
          "name": "stdout",
          "text": [
            "Extracting ./data/MNIST/raw/train-labels-idx1-ubyte.gz to ./data/MNIST/raw\n",
            "\n",
            "Downloading http://yann.lecun.com/exdb/mnist/t10k-images-idx3-ubyte.gz\n",
            "Downloading http://yann.lecun.com/exdb/mnist/t10k-images-idx3-ubyte.gz to ./data/MNIST/raw/t10k-images-idx3-ubyte.gz\n"
          ]
        },
        {
          "output_type": "display_data",
          "data": {
            "text/plain": [
              "  0%|          | 0/1648877 [00:00<?, ?it/s]"
            ],
            "application/vnd.jupyter.widget-view+json": {
              "version_major": 2,
              "version_minor": 0,
              "model_id": "92a868e8071e42b4b2438c5e184f95fa"
            }
          },
          "metadata": {}
        },
        {
          "output_type": "stream",
          "name": "stdout",
          "text": [
            "Extracting ./data/MNIST/raw/t10k-images-idx3-ubyte.gz to ./data/MNIST/raw\n",
            "\n",
            "Downloading http://yann.lecun.com/exdb/mnist/t10k-labels-idx1-ubyte.gz\n",
            "Downloading http://yann.lecun.com/exdb/mnist/t10k-labels-idx1-ubyte.gz to ./data/MNIST/raw/t10k-labels-idx1-ubyte.gz\n"
          ]
        },
        {
          "output_type": "display_data",
          "data": {
            "text/plain": [
              "  0%|          | 0/4542 [00:00<?, ?it/s]"
            ],
            "application/vnd.jupyter.widget-view+json": {
              "version_major": 2,
              "version_minor": 0,
              "model_id": "cc41089e365f42c8be44b21195446d5b"
            }
          },
          "metadata": {}
        },
        {
          "output_type": "stream",
          "name": "stdout",
          "text": [
            "Extracting ./data/MNIST/raw/t10k-labels-idx1-ubyte.gz to ./data/MNIST/raw\n",
            "\n",
            "Training set length : 60000\n",
            "Testing set length : 10000\n"
          ]
        }
      ],
      "source": [
        "transform = transforms.Compose([\n",
        "                    transforms.ToTensor(), \n",
        "            ])\n",
        "\n",
        "trainset = datasets.MNIST(root='./data', train=True, download=True, transform=transform)\n",
        "\n",
        "testset = datasets.MNIST(root='./data', train=False, download=True, transform=transform)\n",
        "print(\"Training set length :\", len(trainset))\n",
        "print(\"Testing set length :\",len(testset))\n"
      ]
    },
    {
      "cell_type": "code",
      "execution_count": 3,
      "id": "db5bf20a",
      "metadata": {
        "id": "db5bf20a"
      },
      "outputs": [],
      "source": [
        "trainloader_minibatch = torch.utils.data.DataLoader(trainset, batch_size=64\n",
        "                                                    , shuffle=True, num_workers=2)\n",
        "trainloader_stochastic = torch.utils.data.DataLoader(trainset, batch_size=1\n",
        "                                                     , shuffle=True, num_workers=2)\n",
        "testloader_minibatch = torch.utils.data.DataLoader(testset, batch_size=64\n",
        "                                                    , shuffle=True, num_workers=2)\n",
        "\n",
        "testloader_stochastic = torch.utils.data.DataLoader(testset, batch_size=1\n",
        "                                                     , shuffle=True, num_workers=2)\n"
      ]
    },
    {
      "cell_type": "code",
      "execution_count": 4,
      "id": "179becdc",
      "metadata": {
        "colab": {
          "base_uri": "https://localhost:8080/"
        },
        "id": "179becdc",
        "outputId": "c81a118e-439b-4a09-b0b5-f952b6105035"
      },
      "outputs": [
        {
          "output_type": "stream",
          "name": "stderr",
          "text": [
            "  0%|          | 1/938 [00:00<01:35,  9.77it/s]"
          ]
        },
        {
          "output_type": "stream",
          "name": "stdout",
          "text": [
            "0 torch.Size([64, 1, 28, 28]) torch.Size([64])\n"
          ]
        },
        {
          "output_type": "execute_result",
          "data": {
            "text/plain": [
              "True"
            ]
          },
          "metadata": {},
          "execution_count": 4
        }
      ],
      "source": [
        "pbar = tqdm(total=len(trainloader_minibatch))\n",
        "for idx, (data,label) in enumerate(trainloader_minibatch):\n",
        "    print(idx,data.size(),label.size())\n",
        "    pbar.update(1)\n",
        "    break\n",
        "pbar.refresh()"
      ]
    },
    {
      "cell_type": "markdown",
      "id": "b25020e7",
      "metadata": {
        "jp-MarkdownHeadingCollapsed": true,
        "tags": [],
        "id": "b25020e7"
      },
      "source": [
        "### Step two: Define a MLP Model and without any bells and whitsles...\n",
        "... along with a CrossEntropy loss criterion \n",
        "\n",
        "Do not use Dropout, BN or any other thing. Use ReLU for hidden layers.\n",
        "\n",
        "⚠️ Do not use SoftMax in the output as nn.CrossEntropyLoss combines SoftMax and NLLLoss."
      ]
    },
    {
      "cell_type": "code",
      "execution_count": 5,
      "id": "a49dc9a7",
      "metadata": {
        "id": "a49dc9a7"
      },
      "outputs": [],
      "source": [
        "class SimpleMLP(nn.Module):\n",
        "    def __init__(self):\n",
        "        super(SimpleMLP,self).__init__()\n",
        "        self.flatten = nn.Flatten()\n",
        "        self.linear_relu_stack = nn.Sequential(\n",
        "            nn.Linear(28*28, 256),\n",
        "            nn.ReLU(),\n",
        "            nn.Linear(256, 10),\n",
        "        )\n",
        "        \n",
        "    def forward(self,x):\n",
        "        output = self.linear_relu_stack(x)\n",
        "        return output\n",
        "criterion = nn.CrossEntropyLoss()"
      ]
    },
    {
      "cell_type": "markdown",
      "id": "520e81eb",
      "metadata": {
        "jp-MarkdownHeadingCollapsed": true,
        "tags": [],
        "id": "520e81eb"
      },
      "source": [
        "### Step three: Define the following optimizers using nn.optim\n",
        "1. SGD\n",
        "2. SGD with momentum\n",
        "3. SGD with L2 regularization\n",
        "4. RMSprop\n",
        "5. Adam"
      ]
    },
    {
      "cell_type": "code",
      "execution_count": 6,
      "id": "717fa204",
      "metadata": {
        "id": "717fa204"
      },
      "outputs": [],
      "source": [
        "\n",
        "def train_model(train_loader,test_loader,optimizer,learning_rate,epoch,model):\n",
        "  losses_train=[]\n",
        "  losses_test=[]\n",
        "  n=len(train_loader)\n",
        "  for values in range(epoch):\n",
        "    loss_value=0\n",
        "    for input, target in train_loader:\n",
        "      optimizer.zero_grad()\n",
        "      input=input.reshape(input.shape[0],-1)\n",
        "      pred = model(input)\n",
        "      loss = criterion(pred, target)\n",
        "      loss.backward()\n",
        "      optimizer.step()\n",
        "      loss_value+=loss.item()\n",
        "    losses_train.append(loss_value/n)\n",
        "    losses_test.append(test(test_loader, optimizer ,model))\n",
        "  return losses_train,losses_test\n",
        "\n",
        "def test(test_loader, optimizer ,model):\n",
        "  n=len(test_loader)\n",
        "  loss_value=0\n",
        "  for input, target in test_loader:\n",
        "    optimizer.zero_grad()\n",
        "    input=input.reshape(input.shape[0],-1)\n",
        "    pred = model(input)\n",
        "    loss = criterion(pred, target)\n",
        "    loss_value+=loss.item()\n",
        "  return loss_value/n\n",
        "\n",
        "\n",
        "def predict(loader, optimizer ,model,method):\n",
        "  pred_label=[]\n",
        "  y_lables=[]\n",
        "  for input, label in loader:\n",
        "    optimizer.zero_grad()\n",
        "    input=input.reshape(input.shape[0],-1)\n",
        "    pred = model(input)\n",
        "    _, pred_ =torch.max(pred.data,1)\n",
        "    pred_label.extend(pred_.numpy())\n",
        "    y_lables.extend(label.numpy())\n",
        "  metrics = [method, accuracy_score(y_lables, pred_label), f1_score(y_lables, pred_label,average='macro'), precision_score(y_lables, pred_label,average='macro')]\n",
        "  return metrics"
      ]
    },
    {
      "cell_type": "code",
      "source": [
        "model_SDG=SimpleMLP()\n",
        "model_SDG_momentum=SimpleMLP()\n",
        "model_SDG_reg=SimpleMLP()\n",
        "model_RMSprop=SimpleMLP()\n",
        "model_adam=SimpleMLP()\n",
        "optimizer_SDG = torch.optim.SGD(model_SDG.parameters(), lr=0.1)\n",
        "optimizer_SDG_momentum = torch.optim.SGD(model_SDG_momentum.parameters(), lr=0.1,momentum=0.9)\n",
        "optimizer_SDG_reg = torch.optim.SGD(model_SDG_reg.parameters(), lr=0.1,weight_decay=0.001)\n",
        "optimizer_RMSprop = torch.optim.RMSprop(model_RMSprop.parameters(), lr=0.001, alpha=0.9)\n",
        "optimizer_adam = torch.optim.Adam(model_adam.parameters(), lr=0.001, betas=(0.9, 0.999))\n",
        "\n",
        "optimizers=[optimizer_SDG,optimizer_SDG_momentum,optimizer_SDG_reg,optimizer_RMSprop,optimizer_adam]\n",
        "Models=[model_SDG, model_SDG_momentum, model_SDG_reg, model_RMSprop, model_adam]"
      ],
      "metadata": {
        "id": "j93ctWpziBq4"
      },
      "id": "j93ctWpziBq4",
      "execution_count": 7,
      "outputs": []
    },
    {
      "cell_type": "markdown",
      "id": "f5f0f6b8",
      "metadata": {
        "jp-MarkdownHeadingCollapsed": true,
        "tags": [],
        "id": "f5f0f6b8"
      },
      "source": [
        "### Step four: Run the SimpleMLP using different optimizers and plot train and test loss for each optimizer.\n",
        "Explain the results.\n",
        "\n",
        "Report final accuracy, F1 score and other relavant metrics in a tabular form on test and train datasets."
      ]
    },
    {
      "cell_type": "code",
      "execution_count": 8,
      "id": "cbdb2e27",
      "metadata": {
        "id": "cbdb2e27"
      },
      "outputs": [],
      "source": [
        "epoch = 10\n",
        "losses_train_SDG,losses_test_SDG=train_model(trainloader_minibatch,testloader_minibatch,optimizer_SDG,0.1,epoch,model_SDG)\n",
        "losses_train_SDG_momentum,losses_test_SDG_momentum=train_model(trainloader_minibatch,testloader_minibatch,optimizer_SDG_momentum,0.1,epoch,model_SDG_momentum)\n",
        "\n",
        "losses_train_SDG_reg,losses_test_SDG_reg=train_model(trainloader_minibatch,testloader_minibatch,optimizer_SDG_reg,0.1,epoch,model_SDG_reg)\n",
        "\n",
        "losses_train_RMSprop,losses_test_RMSprop=train_model(trainloader_minibatch,testloader_minibatch,optimizer_RMSprop,0.1,epoch,model_RMSprop)\n",
        "\n",
        "losses_train_adam,losses_test_adam=train_model(trainloader_minibatch,testloader_minibatch,optimizer_adam,0.1,epoch,model_adam)\n"
      ]
    },
    {
      "cell_type": "code",
      "source": [
        "\n",
        "def plot_graph(x,y1,y2,method):\n",
        "  plt.figure(figsize=(8, 8))\n",
        "  plt.xlabel('Losses')\n",
        "  plt.ylabel('Epochs')\n",
        "  plt.title('Epoch vs Loss in '+method+' optimizer')\n",
        "  plt.plot(x , y1 , marker='o', label='Training data')\n",
        "  plt.plot(x , y2 , marker='o', label='Tresting data')\n",
        "  plt.legend()\n",
        "  plt.show()"
      ],
      "metadata": {
        "id": "sQMvFN8V1rpk"
      },
      "id": "sQMvFN8V1rpk",
      "execution_count": 9,
      "outputs": []
    },
    {
      "cell_type": "code",
      "source": [
        "\n",
        "epochs=[i+1 for i in range(epoch)]\n",
        "\n",
        "plot_graph(epochs,losses_train_SDG,losses_test_SDG,\" SGD \")\n",
        "plot_graph(epochs,losses_train_SDG_momentum,losses_test_SDG_momentum,\" SGD with momentum \")\n",
        "plot_graph(epochs,losses_train_SDG_reg,losses_test_SDG_reg,\" SGD with L2 regularization \")\n",
        "plot_graph(epochs,losses_train_RMSprop,losses_test_RMSprop,\" RMSprop \")\n",
        "plot_graph(epochs,losses_train_adam,losses_test_adam,\" Adam \")"
      ],
      "metadata": {
        "colab": {
          "base_uri": "https://localhost:8080/",
          "height": 1000
        },
        "id": "ZgndbW1K213O",
        "outputId": "eff9299a-6321-467c-9255-796e2ba92649"
      },
      "id": "ZgndbW1K213O",
      "execution_count": 10,
      "outputs": [
        {
          "output_type": "display_data",
          "data": {
            "text/plain": [
              "<Figure size 576x576 with 1 Axes>"
            ],
            "image/png": "[encoded data removed]"
          },
          "metadata": {
            "needs_background": "light"
          }
        },
        {
          "output_type": "display_data",
          "data": {
            "text/plain": [
              "<Figure size 576x576 with 1 Axes>"
            ],
            "image/png": "[encoded data removed]"
          },
          "metadata": {
            "needs_background": "light"
          }
        },
        {
          "output_type": "display_data",
          "data": {
            "text/plain": [
              "<Figure size 576x576 with 1 Axes>"
            ],
            "image/png": "[encoded data removed]"
          },
          "metadata": {
            "needs_background": "light"
          }
        },
        {
          "output_type": "display_data",
          "data": {
            "text/plain": [
              "<Figure size 576x576 with 1 Axes>"
            ],
            "image/png": "[encoded data removed]"
          },
          "metadata": {
            "needs_background": "light"
          }
        },
        {
          "output_type": "display_data",
          "data": {
            "text/plain": [
              "<Figure size 576x576 with 1 Axes>"
            ],
            "image/png": "[encoded data removed]"
          },
          "metadata": {
            "needs_background": "light"
          }
        }
      ]
    },
    {
      "cell_type": "code",
      "source": [
        "# Scores for train.\n",
        "Column_s = ['optimizer','Accuracy', 'F1 Score', 'Precision']\n",
        "methods=['SDG','SGD with momentum','SGD with L2 regularization','RMSprop','Adam']\n",
        "rows_train=[]\n",
        "rows_test=[]\n",
        "for opt,method,model in zip(optimizers, methods,Models):\n",
        "  metrics_train = predict(trainloader_minibatch, opt ,model,method)\n",
        "  metrics_test = predict(testloader_minibatch, opt ,model,method)\n",
        "  rows_train.append(metrics_train)\n",
        "  rows_test.append(metrics_test)\n",
        "\n"
      ],
      "metadata": {
        "id": "UGd4tyrtBjCo"
      },
      "id": "UGd4tyrtBjCo",
      "execution_count": 11,
      "outputs": []
    },
    {
      "cell_type": "code",
      "source": [
        "results_train = pd.DataFrame(rows_train, columns=Column_s)\n",
        "results_test = pd.DataFrame(rows_test, columns=Column_s)\n",
        "\n",
        "print(\"Train : \\n\",results_train)\n",
        "print(\"Test : \\n\",results_test)"
      ],
      "metadata": {
        "id": "63nGu6por2eY",
        "colab": {
          "base_uri": "https://localhost:8080/"
        },
        "outputId": "c34af6df-dd0e-4ee8-f00f-9c3d428b14ac"
      },
      "id": "63nGu6por2eY",
      "execution_count": 12,
      "outputs": [
        {
          "output_type": "stream",
          "name": "stdout",
          "text": [
            "Train : \n",
            "                     optimizer  Accuracy  F1 Score  Precision\n",
            "0                         SDG  0.987533  0.987502   0.987631\n",
            "1           SGD with momentum  0.997750  0.997743   0.997774\n",
            "2  SGD with L2 regularization  0.979833  0.979760   0.979844\n",
            "3                     RMSprop  0.995900  0.995907   0.995908\n",
            "4                        Adam  0.997900  0.997904   0.997913\n",
            "Test : \n",
            "                     optimizer  Accuracy  F1 Score  Precision\n",
            "0                         SDG    0.9766  0.976468   0.976714\n",
            "1           SGD with momentum    0.9800  0.979874   0.980076\n",
            "2  SGD with L2 regularization    0.9734  0.973273   0.973441\n",
            "3                     RMSprop    0.9792  0.979161   0.979271\n",
            "4                        Adam    0.9801  0.979949   0.979968\n"
          ]
        }
      ]
    },
    {
      "cell_type": "markdown",
      "source": [
        "### Result explaination :\n",
        "In this table, we report the performance of MLP models trained using five different optimizers: SGD, SGD with momentum, SGD with L2 regularization, RMSprop, Adam. For each optimizer, we report the final accuracy,F1 score, Precision on both the training and test datasets.\n",
        " \n",
        "The results show that the Adam optimizer performs the best among the four optimizers, with the highest final accuracy and F1 score on both the training and test datasets. The SGD with momentum optimizer also performs well, but with a slightly lower accuracy and F1 score on the test dataset compared to Adam. RMSprop  shows lower performance on both the training and test datasets."
      ],
      "metadata": {
        "id": "rV_xWik5d5ky"
      },
      "id": "rV_xWik5d5ky"
    },
    {
      "cell_type": "markdown",
      "id": "d09ffca0",
      "metadata": {
        "jp-MarkdownHeadingCollapsed": true,
        "tags": [],
        "id": "d09ffca0"
      },
      "source": [
        "### Step five: Using SimpleMLP and Adam optimizer, train models using 2 different lr_schedulers.\n",
        "Select 2 of **MultiplicativeLR**, **MultiStepLR**, **LinearLR** and **ExponentialLR**\n",
        "\n",
        "Compare the results among different LR schedulers and the original model which didn't employ any LR scheduler. Compile results in a tabular form. Plot losses for each. Explain results."
      ]
    },
    {
      "cell_type": "code",
      "execution_count": 13,
      "id": "17e61fd6",
      "metadata": {
        "id": "17e61fd6"
      },
      "outputs": [],
      "source": [
        "from torch.optim.lr_scheduler import MultiStepLR, ExponentialLR\n",
        "\n",
        "def train_with_sch(train_loader,test_loader,optimizer,learning_rate,epoch,model,scheduler):\n",
        "  losses_train=[]\n",
        "  losses_test=[]\n",
        "  n=len(train_loader)\n",
        "  for values in range(epoch):\n",
        "    loss_value=0\n",
        "    for input, target in train_loader:\n",
        "      optimizer.zero_grad()\n",
        "      input=input.reshape(input.shape[0],-1)\n",
        "      pred = model(input)\n",
        "      loss = criterion(pred, target)\n",
        "      loss.backward()\n",
        "      optimizer.step()\n",
        "      loss_value+=loss.item()\n",
        "    scheduler.step()\n",
        "    losses_train.append(loss_value/n)\n",
        "    losses_test.append(test_with_sch(test_loader, optimizer ,model))\n",
        "  return losses_train,losses_test\n",
        "\n",
        "def test_with_sch(test_loader, optimizer ,model):\n",
        "  n=len(test_loader)\n",
        "  loss_value=0\n",
        "  for input, target in test_loader:\n",
        "    optimizer.zero_grad()\n",
        "    input=input.reshape(input.shape[0],-1)\n",
        "    pred = model(input)\n",
        "    loss = criterion(pred, target)\n",
        "    loss_value+=loss.item()\n",
        "  return loss_value/n\n",
        "\n",
        "\n",
        "def predict_with_sch(loader, optimizer ,model,method):\n",
        "  pred_label=[]\n",
        "  y_lables=[]\n",
        "  for input, label in loader:\n",
        "    optimizer.zero_grad()\n",
        "    input=input.reshape(input.shape[0],-1)\n",
        "    pred = model(input)\n",
        "    _, pred_ =torch.max(pred.data,1)\n",
        "    pred_label.extend(pred_.numpy())\n",
        "    y_lables.extend(label.numpy())\n",
        "  metrics = [method, accuracy_score(y_lables, pred_label), f1_score(y_lables, pred_label,average='macro'), precision_score(y_lables, pred_label,average='macro')]\n",
        "  return metrics\n",
        "\n"
      ]
    },
    {
      "cell_type": "code",
      "source": [
        "\n",
        "model_adam1=SimpleMLP()\n",
        "model_adam2=SimpleMLP()\n",
        "optimizer1 = torch.optim.Adam(model_adam1.parameters(), lr=0.01)\n",
        "optimizer2 = torch.optim.Adam(model_adam2.parameters(), lr=0.01)\n",
        "scheduler1 = MultiStepLR(optimizer1, milestones=[10, 20], gamma=0.1)\n",
        "scheduler2 = ExponentialLR(optimizer2, gamma=0.9)\n",
        "\n",
        "losses_train_sch1,losses_test_Sch1=train_with_sch(trainloader_minibatch,testloader_minibatch,optimizer1,0.1,epoch,model_adam1,scheduler1)\n",
        "losses_train_sch2,losses_test_Sch2=train_with_sch(trainloader_minibatch,testloader_minibatch,optimizer2,0.1,epoch,model_adam2,scheduler2)\n"
      ],
      "metadata": {
        "id": "PqzK7RijPhTU"
      },
      "id": "PqzK7RijPhTU",
      "execution_count": 14,
      "outputs": []
    },
    {
      "cell_type": "code",
      "source": [
        "Column_s1 = ['Scheduler','Accuracy', 'F1 Score', 'Precision']\n",
        "methods1=['MultiStepLR','ExponentialLR']\n",
        "optimizers1=[optimizer1,optimizer2]\n",
        "Models1=[model_adam1,model_adam2]\n",
        "rows_train=[]\n",
        "rows_test=[]\n",
        "for opt,method,model in zip(optimizers1, methods1,Models1):\n",
        "  metrics_train = predict_with_sch(trainloader_minibatch, opt ,model,method)\n",
        "  metrics_test = predict_with_sch(testloader_minibatch, opt ,model,method)\n",
        "  rows_train.append(metrics_train)\n",
        "  rows_test.append(metrics_test)\n",
        "\n",
        "rows_train.append(predict(trainloader_minibatch, optimizer_adam ,model_adam,'Normal Adam'))\n",
        "rows_test.append(predict(testloader_minibatch, optimizer_adam ,model_adam,'Normal Adam'))  "
      ],
      "metadata": {
        "id": "wpazrMJLSThH"
      },
      "id": "wpazrMJLSThH",
      "execution_count": 34,
      "outputs": []
    },
    {
      "cell_type": "code",
      "source": [
        "\n",
        "results_train = pd.DataFrame(rows_train, columns=Column_s1)\n",
        "results_test = pd.DataFrame(rows_test, columns=Column_s1)\n",
        "\n",
        "print(\"Train : \\n\",results_train)\n",
        "print(\"Test : \\n\",results_test)"
      ],
      "metadata": {
        "id": "Kj_Uj_L8TPmQ",
        "colab": {
          "base_uri": "https://localhost:8080/"
        },
        "outputId": "0f612bd6-51bb-4b8c-a6cd-a57681675c43"
      },
      "id": "Kj_Uj_L8TPmQ",
      "execution_count": 35,
      "outputs": [
        {
          "output_type": "stream",
          "name": "stdout",
          "text": [
            "Train : \n",
            "        Scheduler  Accuracy  F1 Score  Precision\n",
            "0    MultiStepLR  0.982783  0.982727   0.982663\n",
            "1  ExponentialLR  0.996817  0.996795   0.996776\n",
            "2    Normal Adam  0.997900  0.997904   0.997913\n",
            "Test : \n",
            "        Scheduler  Accuracy  F1 Score  Precision\n",
            "0    MultiStepLR    0.9661  0.965811   0.965799\n",
            "1  ExponentialLR    0.9786  0.978446   0.978528\n",
            "2    Normal Adam    0.9801  0.979949   0.979968\n"
          ]
        }
      ]
    },
    {
      "cell_type": "code",
      "source": [
        "\n",
        "plot_graph(epochs,losses_train_sch1,losses_test_Sch1,\" MultiStepLR Adam \")\n",
        "\n",
        "plot_graph(epochs,losses_train_sch2,losses_test_Sch2,\" ExponentialLR Adam \")\n",
        "plot_graph(epochs,losses_train_adam,losses_test_adam,\" Adam \")\n"
      ],
      "metadata": {
        "id": "Pt8kgEWVTklC",
        "colab": {
          "base_uri": "https://localhost:8080/",
          "height": 1000
        },
        "outputId": "49087ad0-be37-4af8-eed2-0028b47fd693"
      },
      "id": "Pt8kgEWVTklC",
      "execution_count": 36,
      "outputs": [
        {
          "output_type": "display_data",
          "data": {
            "text/plain": [
              "<Figure size 576x576 with 1 Axes>"
            ],
            "image/png": "[encoded data removed]"
          },
          "metadata": {
            "needs_background": "light"
          }
        },
        {
          "output_type": "display_data",
          "data": {
            "text/plain": [
              "<Figure size 576x576 with 1 Axes>"
            ],
            "image/png": "[encoded data removed]"
          },
          "metadata": {
            "needs_background": "light"
          }
        },
        {
          "output_type": "display_data",
          "data": {
            "text/plain": [
              "<Figure size 576x576 with 1 Axes>"
            ],
            "image/png": "[encoded data removed]"
          },
          "metadata": {
            "needs_background": "light"
          }
        }
      ]
    },
    {
      "cell_type": "markdown",
      "source": [
        "### Result explaination :\n",
        "As we can see on the table that all three models(Adam with MultiStepLR scheduler, Adam with ExponentialLR scheduler and Adam without scheduler) achieve high test accuracy on the  dataset, with the ExponentialLR scheduler achieving the very good accuracy but not better then without any scheduler. This happened in this data set may be.\n",
        "\n"
      ],
      "metadata": {
        "id": "Xvs7ejv_lVKy"
      },
      "id": "Xvs7ejv_lVKy"
    },
    {
      "cell_type": "markdown",
      "id": "91631d83",
      "metadata": {
        "jp-MarkdownHeadingCollapsed": true,
        "tags": [],
        "id": "91631d83"
      },
      "source": [
        "### Step six: Define 3 models with following changes:\n",
        "1. Add BatchNorm\n",
        "2. Add Dropout\n",
        "3. Add BatchNorm and Dropout"
      ]
    },
    {
      "cell_type": "code",
      "execution_count": 18,
      "id": "67d845a4",
      "metadata": {
        "id": "67d845a4"
      },
      "outputs": [],
      "source": [
        "\n",
        "class MLP_BatchNorm_Dropout(nn.Module):\n",
        "  def __init__(self):\n",
        "      super(MLP_BatchNorm_Dropout,self).__init__()\n",
        "      self.flatten = nn.Flatten()\n",
        "      self.linear_relu_stack = nn.Sequential(\n",
        "          nn.Linear(28*28, 256),\n",
        "          nn.BatchNorm1d(256),\n",
        "          nn.Dropout(0.5),\n",
        "          nn.ReLU(),\n",
        "          nn.Linear(256, 10),\n",
        "\n",
        "      )\n",
        "        \n",
        "  def forward(self,x):\n",
        "      output = self.linear_relu_stack(x)\n",
        "      return output\n",
        "\n",
        "class MLP_Dropout(nn.Module):\n",
        "  def __init__(self):\n",
        "      super(MLP_Dropout,self).__init__()\n",
        "      self.flatten = nn.Flatten()\n",
        "      self.linear_relu_stack = nn.Sequential(\n",
        "          nn.Linear(28*28, 256),\n",
        "          nn.Dropout(0.5),\n",
        "          nn.ReLU(),\n",
        "          nn.Linear(256, 10),\n",
        "\n",
        "      )\n",
        "        \n",
        "  def forward(self,x):\n",
        "      output = self.linear_relu_stack(x)\n",
        "      return output\n",
        "\n",
        "class MLP_BatchNorm(nn.Module):\n",
        "  def __init__(self):\n",
        "      super(MLP_BatchNorm,self).__init__()\n",
        "      self.flatten = nn.Flatten()\n",
        "      self.linear_relu_stack = nn.Sequential(\n",
        "          nn.Linear(28*28, 256),\n",
        "          nn.BatchNorm1d(256),\n",
        "          nn.ReLU(),\n",
        "          nn.Linear(256, 10),\n",
        "\n",
        "      )\n",
        "        \n",
        "  def forward(self,x):\n",
        "      output = self.linear_relu_stack(x)\n",
        "      return output"
      ]
    },
    {
      "cell_type": "markdown",
      "id": "adc3d78f",
      "metadata": {
        "jp-MarkdownHeadingCollapsed": true,
        "tags": [],
        "id": "adc3d78f"
      },
      "source": [
        "### Step seven: Train the above models and compare with SimpleMLP.\n",
        "\n",
        "Use your choice of optimizer, use no lr_scheduler so as to re-use the previous results.\n",
        "\n",
        "Perform analysis. You've got the drill by now."
      ]
    },
    {
      "cell_type": "code",
      "execution_count": 19,
      "id": "0a86605f",
      "metadata": {
        "id": "0a86605f"
      },
      "outputs": [],
      "source": [
        "model_batch=MLP_BatchNorm()\n",
        "model_drop=MLP_Dropout()\n",
        "model_Drop_batch=MLP_BatchNorm_Dropout()\n",
        "\n",
        "optimizer_SDG_momentum_batch = torch.optim.SGD(model_batch.parameters(), lr=0.1,momentum=0.9)\n",
        "optimizer_SDG_momentum_drop = torch.optim.SGD(model_drop.parameters(), lr=0.1,momentum=0.9)\n",
        "optimizer_SDG_momentum_drop_batch = torch.optim.SGD(model_Drop_batch.parameters(), lr=0.1,momentum=0.9)\n",
        "\n",
        "losses_train_Batch,losses_test_Batch=train_model(trainloader_minibatch,testloader_minibatch,optimizer_SDG_momentum_batch,0.1,epoch,model_batch)\n",
        "losses_train_drop,losses_test_drop=train_model(trainloader_minibatch,testloader_minibatch,optimizer_SDG_momentum_drop,0.1,epoch,model_drop)\n",
        "losses_train_Batch_drop,losses_test_Batch_drop=train_model(trainloader_minibatch,testloader_minibatch,optimizer_SDG_momentum_drop_batch,0.1,epoch,model_Drop_batch)\n"
      ]
    },
    {
      "cell_type": "code",
      "source": [
        "\n",
        "plot_graph(epochs,losses_train_Batch,losses_test_Batch,\" BatchNorm and SDG with momentum \")\n",
        "plot_graph(epochs,losses_train_drop,losses_test_drop,\" Dropout and SDG with momentum \")\n",
        "plot_graph(epochs,losses_train_Batch_drop,losses_test_Batch_drop,\" BatchNorm also Dropout and SDG with momentum \")\n"
      ],
      "metadata": {
        "id": "ntMtkXKZckK4",
        "colab": {
          "base_uri": "https://localhost:8080/",
          "height": 1000
        },
        "outputId": "f612ef5b-8417-4437-e75b-27f14ac2b4c6"
      },
      "id": "ntMtkXKZckK4",
      "execution_count": 20,
      "outputs": [
        {
          "output_type": "display_data",
          "data": {
            "text/plain": [
              "<Figure size 576x576 with 1 Axes>"
            ],
            "image/png": "[encoded data removed]"
          },
          "metadata": {
            "needs_background": "light"
          }
        },
        {
          "output_type": "display_data",
          "data": {
            "text/plain": [
              "<Figure size 576x576 with 1 Axes>"
            ],
            "image/png": "[encoded data removed]"
          },
          "metadata": {
            "needs_background": "light"
          }
        },
        {
          "output_type": "display_data",
          "data": {
            "text/plain": [
              "<Figure size 576x576 with 1 Axes>"
            ],
            "image/png": "[encoded data removed]"
          },
          "metadata": {
            "needs_background": "light"
          }
        }
      ]
    },
    {
      "cell_type": "code",
      "source": [
        "Column_s = ['Model','Accuracy', 'F1 Score', 'Precision']\n",
        "models=['BatchNorm','Dropout','BatchNorm + Dropout']\n",
        "optimizer_DB=[optimizer_SDG_momentum_batch,optimizer_SDG_momentum_drop,optimizer_SDG_momentum_drop_batch]\n",
        "Models_DB=[model_batch, model_drop, model_Drop_batch]\n",
        "rows_train=[]\n",
        "rows_test=[]\n",
        "for opt,method,model in zip(optimizer_DB, models,Models_DB):\n",
        "  metrics_train = predict(trainloader_minibatch, opt ,model,method)\n",
        "  metrics_test = predict(testloader_minibatch, opt ,model,method)\n",
        "  rows_train.append(metrics_train)\n",
        "  rows_test.append(metrics_test)"
      ],
      "metadata": {
        "id": "B_l9ZZjTdDBr"
      },
      "id": "B_l9ZZjTdDBr",
      "execution_count": 21,
      "outputs": []
    },
    {
      "cell_type": "code",
      "source": [
        "results_train = pd.DataFrame(rows_train, columns=Column_s)\n",
        "results_test = pd.DataFrame(rows_test, columns=Column_s)\n",
        "\n",
        "print(\"Train : \\n\",results_train)\n",
        "print(\"Test : \\n\",results_test)"
      ],
      "metadata": {
        "id": "cYm5KePbeZ7y",
        "colab": {
          "base_uri": "https://localhost:8080/"
        },
        "outputId": "95d14c27-36d4-49cf-df58-a63c41bc34dc"
      },
      "id": "cYm5KePbeZ7y",
      "execution_count": 22,
      "outputs": [
        {
          "output_type": "stream",
          "name": "stdout",
          "text": [
            "Train : \n",
            "                  Model  Accuracy  F1 Score  Precision\n",
            "0            BatchNorm  0.995767  0.995756   0.995730\n",
            "1              Dropout  0.956483  0.956207   0.956648\n",
            "2  BatchNorm + Dropout  0.974000  0.973765   0.973846\n",
            "Test : \n",
            "                  Model  Accuracy  F1 Score  Precision\n",
            "0            BatchNorm    0.9774  0.977201   0.977379\n",
            "1              Dropout    0.9460  0.945657   0.946071\n",
            "2  BatchNorm + Dropout    0.9600  0.959617   0.959662\n"
          ]
        }
      ]
    },
    {
      "cell_type": "markdown",
      "id": "159e3334",
      "metadata": {
        "jp-MarkdownHeadingCollapsed": true,
        "tags": [],
        "id": "159e3334"
      },
      "source": [
        "### Step eight: Mini-batch vs Stocastic\n",
        "Now that you might have a clear winner in your mind regarding which model and settings perform the best, train it on mini-batch and stocastic and compare time taken, loss curve, accuracy etc.\n",
        "\n",
        "Perform an analysis like never before!"
      ]
    },
    {
      "cell_type": "code",
      "execution_count": 23,
      "id": "fa6fd837",
      "metadata": {
        "id": "fa6fd837"
      },
      "outputs": [],
      "source": [
        "model_mini_batch=SimpleMLP()\n",
        "model_stocastic=SimpleMLP()\n",
        "optimizer_mini_batch = torch.optim.Adam(model_mini_batch.parameters(), lr=0.001, betas=(0.9, 0.999))\n",
        "optimizer_stocastic = torch.optim.Adam(model_stocastic.parameters(), lr=0.001, betas=(0.9, 0.999))\n",
        "                 "
      ]
    },
    {
      "cell_type": "code",
      "source": [
        "mini_batch_start_time=time.time()\n",
        "losses_train_mini_batch,losses_test_mini_batch=train_model(trainloader_minibatch, testloader_minibatch, optimizer_mini_batch, 0.1, epoch, model_mini_batch)\n",
        "mini_batch_end_time=time.time()"
      ],
      "metadata": {
        "id": "-1qtGgMsoYe7"
      },
      "id": "-1qtGgMsoYe7",
      "execution_count": 24,
      "outputs": []
    },
    {
      "cell_type": "code",
      "source": [
        "stocastic_start_time=time.time()\n",
        "losses_train_stocastic,losses_test_stocastic=train_model(trainloader_stochastic, testloader_stochastic, optimizer_stocastic, 0.1, epoch, model_stocastic)\n",
        "stocastic_end_time=time.time()\n"
      ],
      "metadata": {
        "id": "AW82M2A7pJqk"
      },
      "id": "AW82M2A7pJqk",
      "execution_count": 25,
      "outputs": []
    },
    {
      "cell_type": "code",
      "source": [
        "Column_s = ['Data-type','Accuracy', 'F1 Score', 'Precision']\n",
        "methods1=['Mini-batch','Stocastic']\n",
        "optimizers1=[optimizer_mini_batch,optimizer_stocastic]\n",
        "Models1=[model_mini_batch,model_stocastic]\n",
        "trainloaders=[[trainloader_minibatch,testloader_minibatch],[trainloader_stochastic, testloader_stochastic]]\n",
        "rows_train=[]\n",
        "rows_test=[]\n",
        "for opt,method,model,loader in zip( optimizers1, methods1, Models1, trainloaders ):\n",
        "  metrics_train = predict(loader[0], opt ,model,method)\n",
        "  metrics_test = predict(loader[1], opt ,model,method)\n",
        "  rows_train.append(metrics_train)\n",
        "  rows_test.append(metrics_test)\n",
        " "
      ],
      "metadata": {
        "id": "L228WyPHr16b"
      },
      "id": "L228WyPHr16b",
      "execution_count": 26,
      "outputs": []
    },
    {
      "cell_type": "code",
      "source": [
        "print(\"Time taken by mini-batch to train : \",mini_batch_end_time - mini_batch_start_time,\"seconds\")\n",
        "print(\"Time taken by stocastic to train : \",stocastic_end_time - stocastic_start_time,\"seconds\")\n"
      ],
      "metadata": {
        "id": "u-Q7YzD6vG2K",
        "colab": {
          "base_uri": "https://localhost:8080/"
        },
        "outputId": "5056ea4c-fc39-4923-9aa4-128f58f8f578"
      },
      "id": "u-Q7YzD6vG2K",
      "execution_count": 27,
      "outputs": [
        {
          "output_type": "stream",
          "name": "stdout",
          "text": [
            "Time taken by mini-batch to train :  135.53083539009094 seconds\n",
            "Time taken by stocastic to train :  4835.713474988937 seconds\n"
          ]
        }
      ]
    },
    {
      "cell_type": "code",
      "source": [
        "plot_graph(epochs,losses_train_mini_batch,losses_test_mini_batch,\" min-Batch with Adam  \")\n",
        "plot_graph(epochs,losses_train_stocastic,losses_test_stocastic,\" stocastic with Adam \")"
      ],
      "metadata": {
        "id": "qiQl9UhKurxV",
        "colab": {
          "base_uri": "https://localhost:8080/",
          "height": 1000
        },
        "outputId": "d027cc7a-b4ff-4749-f076-11e2e1b5b901"
      },
      "id": "qiQl9UhKurxV",
      "execution_count": 28,
      "outputs": [
        {
          "output_type": "display_data",
          "data": {
            "text/plain": [
              "<Figure size 576x576 with 1 Axes>"
            ],
            "image/png": "[encoded data removed]"
          },
          "metadata": {
            "needs_background": "light"
          }
        },
        {
          "output_type": "display_data",
          "data": {
            "text/plain": [
              "<Figure size 576x576 with 1 Axes>"
            ],
            "image/png": "[encoded data removed]"
          },
          "metadata": {
            "needs_background": "light"
          }
        }
      ]
    },
    {
      "cell_type": "code",
      "source": [
        "# comparing both \n",
        "def plot_graph_new(x,y1,y2,method):\n",
        "  plt.figure(figsize=(8, 8))\n",
        "  plt.xlabel('Losses')\n",
        "  plt.ylabel('Epochs')\n",
        "  plt.title('Epoch vs Loss in  Adam optimizer in'+method)\n",
        "  plt.plot(x , y1 , marker='o', label='mini-batch')\n",
        "  plt.plot(x , y2 , marker='o', label='stocastic')\n",
        "  plt.legend()\n",
        "  plt.show()"
      ],
      "metadata": {
        "id": "ivd2YqG4CgAg"
      },
      "id": "ivd2YqG4CgAg",
      "execution_count": 29,
      "outputs": []
    },
    {
      "cell_type": "code",
      "source": [
        "plot_graph_new(epochs,losses_train_mini_batch,losses_train_stocastic,\" training data \")\n",
        "plot_graph_new(epochs,losses_test_mini_batch,losses_test_stocastic,\" testing data \")"
      ],
      "metadata": {
        "id": "R5Z1cJAuC-07",
        "colab": {
          "base_uri": "https://localhost:8080/",
          "height": 1000
        },
        "outputId": "f88108b7-6f0e-434f-9417-34d5f3f9f394"
      },
      "id": "R5Z1cJAuC-07",
      "execution_count": 30,
      "outputs": [
        {
          "output_type": "display_data",
          "data": {
            "text/plain": [
              "<Figure size 576x576 with 1 Axes>"
            ],
            "image/png": "[encoded data removed]"
          },
          "metadata": {
            "needs_background": "light"
          }
        },
        {
          "output_type": "display_data",
          "data": {
            "text/plain": [
              "<Figure size 576x576 with 1 Axes>"
            ],
            "image/png": "[encoded data removed]"
          },
          "metadata": {
            "needs_background": "light"
          }
        }
      ]
    },
    {
      "cell_type": "code",
      "source": [
        "results_train = pd.DataFrame(rows_train, columns=Column_s)\n",
        "results_test = pd.DataFrame(rows_test, columns=Column_s)\n",
        "\n",
        "print(\"Train : \\n\",results_train)\n",
        "print(\"Test : \\n\",results_test)"
      ],
      "metadata": {
        "id": "RguRZgs7uheO",
        "colab": {
          "base_uri": "https://localhost:8080/"
        },
        "outputId": "fe982a35-e311-4215-883e-99f6c33a00e0"
      },
      "id": "RguRZgs7uheO",
      "execution_count": 31,
      "outputs": [
        {
          "output_type": "stream",
          "name": "stdout",
          "text": [
            "Train : \n",
            "     Data-type  Accuracy  F1 Score  Precision\n",
            "0  Mini-batch  0.996933  0.996882   0.996923\n",
            "1   Stocastic  0.992783  0.992809   0.992935\n",
            "Test : \n",
            "     Data-type  Accuracy  F1 Score  Precision\n",
            "0  Mini-batch    0.9793  0.979118   0.979365\n",
            "1   Stocastic    0.9797  0.979597   0.979758\n"
          ]
        }
      ]
    },
    {
      "cell_type": "markdown",
      "id": "d6f04f42",
      "metadata": {
        "jp-MarkdownHeadingCollapsed": true,
        "tags": [],
        "id": "d6f04f42"
      },
      "source": [
        "### And most importantly!!! What did we learn?\n",
        "Discuss any and all learnings here. The discussions must be all-encompassing so that we know what did you learn. \n",
        "\n",
        "Please do not copy from your friend or copy-paste from the internet. We can see repetitions during evaluations."
      ]
    },
    {
      "cell_type": "markdown",
      "source": [
        "In first , we report the performance of MLP models trained using five different optimizers: SGD, SGD with momentum, SGD with L2 regularization, RMSprop, Adam. Among all based on the performance we can analyze that Adam optimizer's performance is best also SDG with momentum performs nearly Adam in out data set.\n",
        "\n",
        " After that we perform some analysis on Adam optimizer with 2 schedulers as Multistep and exponential. As result we see Adam optimers \n",
        "improves their performance with ExponentialLR scheduler as compare to without scheduler.\n",
        "\n",
        "We modified our model using Batchnorm and dropout then perform some analysis on results. We found that Batchnorm gives best accuracy and all in both train and test datasets\n",
        "At last we compare the data on  mini batch and stocasting and in results we can see stocastic takes a lot of time to give result.In term of accuracy. stocastic perform slightly better in test data."
      ],
      "metadata": {
        "id": "Libr2Ii_WFRZ"
      },
      "id": "Libr2Ii_WFRZ"
    }
  ],
  "metadata": {
    "kernelspec": {
      "display_name": "env",
      "language": "python",
      "name": "env"
    },
    "language_info": {
      "codemirror_mode": {
        "name": "ipython",
        "version": 3
      },
      "file_extension": ".py",
      "mimetype": "text/x-python",
      "name": "python",
      "nbconvert_exporter": "python",
      "pygments_lexer": "ipython3",
      "version": "3.8.10"
    },
    "colab": {
      "provenance": []
    },
    "widgets": {
      "application/vnd.jupyter.widget-state+json": {
        "df3af8f4cf134502a556914575e5ac7d": {
          "model_module": "@jupyter-widgets/controls",
          "model_name": "HBoxModel",
          "model_module_version": "1.5.0",
          "state": {
            "_dom_classes": [],
            "_model_module": "@jupyter-widgets/controls",
            "_model_module_version": "1.5.0",
            "_model_name": "HBoxModel",
            "_view_count": null,
            "_view_module": "@jupyter-widgets/controls",
            "_view_module_version": "1.5.0",
            "_view_name": "HBoxView",
            "box_style": "",
            "children": [
              "IPY_MODEL_3240d30e289145d3a42835626130337f",
              "IPY_MODEL_51fe13bd187e4b99a8879f8f1b2274e5",
              "IPY_MODEL_0a115e41aaf8484b8bf40ab7972a9027"
            ],
            "layout": "IPY_MODEL_8dbf1b56786f401c9a682cbbf5af4b79"
          }
        },
        "3240d30e289145d3a42835626130337f": {
          "model_module": "@jupyter-widgets/controls",
          "model_name": "HTMLModel",
          "model_module_version": "1.5.0",
          "state": {
            "_dom_classes": [],
            "_model_module": "@jupyter-widgets/controls",
            "_model_module_version": "1.5.0",
            "_model_name": "HTMLModel",
            "_view_count": null,
            "_view_module": "@jupyter-widgets/controls",
            "_view_module_version": "1.5.0",
            "_view_name": "HTMLView",
            "description": "",
            "description_tooltip": null,
            "layout": "IPY_MODEL_b693026de58343c4978bf3c1b6612b2a",
            "placeholder": "​",
            "style": "IPY_MODEL_2c5f900bd3684fec911daec5f1745053",
            "value": "100%"
          }
        },
        "51fe13bd187e4b99a8879f8f1b2274e5": {
          "model_module": "@jupyter-widgets/controls",
          "model_name": "FloatProgressModel",
          "model_module_version": "1.5.0",
          "state": {
            "_dom_classes": [],
            "_model_module": "@jupyter-widgets/controls",
            "_model_module_version": "1.5.0",
            "_model_name": "FloatProgressModel",
            "_view_count": null,
            "_view_module": "@jupyter-widgets/controls",
            "_view_module_version": "1.5.0",
            "_view_name": "ProgressView",
            "bar_style": "success",
            "description": "",
            "description_tooltip": null,
            "layout": "IPY_MODEL_d4edcd3c90184245abc739148a174b7e",
            "max": 9912422,
            "min": 0,
            "orientation": "horizontal",
            "style": "IPY_MODEL_df868423ff7144b69c5f0854db2ac123",
            "value": 9912422
          }
        },
        "0a115e41aaf8484b8bf40ab7972a9027": {
          "model_module": "@jupyter-widgets/controls",
          "model_name": "HTMLModel",
          "model_module_version": "1.5.0",
          "state": {
            "_dom_classes": [],
            "_model_module": "@jupyter-widgets/controls",
            "_model_module_version": "1.5.0",
            "_model_name": "HTMLModel",
            "_view_count": null,
            "_view_module": "@jupyter-widgets/controls",
            "_view_module_version": "1.5.0",
            "_view_name": "HTMLView",
            "description": "",
            "description_tooltip": null,
            "layout": "IPY_MODEL_8e4e7af1897c40ebac3372184d37e9ea",
            "placeholder": "​",
            "style": "IPY_MODEL_f731e4d5bf914040aee69b45bfa0d657",
            "value": " 9912422/9912422 [00:00&lt;00:00, 208210652.21it/s]"
          }
        },
        "8dbf1b56786f401c9a682cbbf5af4b79": {
          "model_module": "@jupyter-widgets/base",
          "model_name": "LayoutModel",
          "model_module_version": "1.2.0",
          "state": {
            "_model_module": "@jupyter-widgets/base",
            "_model_module_version": "1.2.0",
            "_model_name": "LayoutModel",
            "_view_count": null,
            "_view_module": "@jupyter-widgets/base",
            "_view_module_version": "1.2.0",
            "_view_name": "LayoutView",
            "align_content": null,
            "align_items": null,
            "align_self": null,
            "border": null,
            "bottom": null,
            "display": null,
            "flex": null,
            "flex_flow": null,
            "grid_area": null,
            "grid_auto_columns": null,
            "grid_auto_flow": null,
            "grid_auto_rows": null,
            "grid_column": null,
            "grid_gap": null,
            "grid_row": null,
            "grid_template_areas": null,
            "grid_template_columns": null,
            "grid_template_rows": null,
            "height": null,
            "justify_content": null,
            "justify_items": null,
            "left": null,
            "margin": null,
            "max_height": null,
            "max_width": null,
            "min_height": null,
            "min_width": null,
            "object_fit": null,
            "object_position": null,
            "order": null,
            "overflow": null,
            "overflow_x": null,
            "overflow_y": null,
            "padding": null,
            "right": null,
            "top": null,
            "visibility": null,
            "width": null
          }
        },
        "b693026de58343c4978bf3c1b6612b2a": {
          "model_module": "@jupyter-widgets/base",
          "model_name": "LayoutModel",
          "model_module_version": "1.2.0",
          "state": {
            "_model_module": "@jupyter-widgets/base",
            "_model_module_version": "1.2.0",
            "_model_name": "LayoutModel",
            "_view_count": null,
            "_view_module": "@jupyter-widgets/base",
            "_view_module_version": "1.2.0",
            "_view_name": "LayoutView",
            "align_content": null,
            "align_items": null,
            "align_self": null,
            "border": null,
            "bottom": null,
            "display": null,
            "flex": null,
            "flex_flow": null,
            "grid_area": null,
            "grid_auto_columns": null,
            "grid_auto_flow": null,
            "grid_auto_rows": null,
            "grid_column": null,
            "grid_gap": null,
            "grid_row": null,
            "grid_template_areas": null,
            "grid_template_columns": null,
            "grid_template_rows": null,
            "height": null,
            "justify_content": null,
            "justify_items": null,
            "left": null,
            "margin": null,
            "max_height": null,
            "max_width": null,
            "min_height": null,
            "min_width": null,
            "object_fit": null,
            "object_position": null,
            "order": null,
            "overflow": null,
            "overflow_x": null,
            "overflow_y": null,
            "padding": null,
            "right": null,
            "top": null,
            "visibility": null,
            "width": null
          }
        },
        "2c5f900bd3684fec911daec5f1745053": {
          "model_module": "@jupyter-widgets/controls",
          "model_name": "DescriptionStyleModel",
          "model_module_version": "1.5.0",
          "state": {
            "_model_module": "@jupyter-widgets/controls",
            "_model_module_version": "1.5.0",
            "_model_name": "DescriptionStyleModel",
            "_view_count": null,
            "_view_module": "@jupyter-widgets/base",
            "_view_module_version": "1.2.0",
            "_view_name": "StyleView",
            "description_width": ""
          }
        },
        "d4edcd3c90184245abc739148a174b7e": {
          "model_module": "@jupyter-widgets/base",
          "model_name": "LayoutModel",
          "model_module_version": "1.2.0",
          "state": {
            "_model_module": "@jupyter-widgets/base",
            "_model_module_version": "1.2.0",
            "_model_name": "LayoutModel",
            "_view_count": null,
            "_view_module": "@jupyter-widgets/base",
            "_view_module_version": "1.2.0",
            "_view_name": "LayoutView",
            "align_content": null,
            "align_items": null,
            "align_self": null,
            "border": null,
            "bottom": null,
            "display": null,
            "flex": null,
            "flex_flow": null,
            "grid_area": null,
            "grid_auto_columns": null,
            "grid_auto_flow": null,
            "grid_auto_rows": null,
            "grid_column": null,
            "grid_gap": null,
            "grid_row": null,
            "grid_template_areas": null,
            "grid_template_columns": null,
            "grid_template_rows": null,
            "height": null,
            "justify_content": null,
            "justify_items": null,
            "left": null,
            "margin": null,
            "max_height": null,
            "max_width": null,
            "min_height": null,
            "min_width": null,
            "object_fit": null,
            "object_position": null,
            "order": null,
            "overflow": null,
            "overflow_x": null,
            "overflow_y": null,
            "padding": null,
            "right": null,
            "top": null,
            "visibility": null,
            "width": null
          }
        },
        "df868423ff7144b69c5f0854db2ac123": {
          "model_module": "@jupyter-widgets/controls",
          "model_name": "ProgressStyleModel",
          "model_module_version": "1.5.0",
          "state": {
            "_model_module": "@jupyter-widgets/controls",
            "_model_module_version": "1.5.0",
            "_model_name": "ProgressStyleModel",
            "_view_count": null,
            "_view_module": "@jupyter-widgets/base",
            "_view_module_version": "1.2.0",
            "_view_name": "StyleView",
            "bar_color": null,
            "description_width": ""
          }
        },
        "8e4e7af1897c40ebac3372184d37e9ea": {
          "model_module": "@jupyter-widgets/base",
          "model_name": "LayoutModel",
          "model_module_version": "1.2.0",
          "state": {
            "_model_module": "@jupyter-widgets/base",
            "_model_module_version": "1.2.0",
            "_model_name": "LayoutModel",
            "_view_count": null,
            "_view_module": "@jupyter-widgets/base",
            "_view_module_version": "1.2.0",
            "_view_name": "LayoutView",
            "align_content": null,
            "align_items": null,
            "align_self": null,
            "border": null,
            "bottom": null,
            "display": null,
            "flex": null,
            "flex_flow": null,
            "grid_area": null,
            "grid_auto_columns": null,
            "grid_auto_flow": null,
            "grid_auto_rows": null,
            "grid_column": null,
            "grid_gap": null,
            "grid_row": null,
            "grid_template_areas": null,
            "grid_template_columns": null,
            "grid_template_rows": null,
            "height": null,
            "justify_content": null,
            "justify_items": null,
            "left": null,
            "margin": null,
            "max_height": null,
            "max_width": null,
            "min_height": null,
            "min_width": null,
            "object_fit": null,
            "object_position": null,
            "order": null,
            "overflow": null,
            "overflow_x": null,
            "overflow_y": null,
            "padding": null,
            "right": null,
            "top": null,
            "visibility": null,
            "width": null
          }
        },
        "f731e4d5bf914040aee69b45bfa0d657": {
          "model_module": "@jupyter-widgets/controls",
          "model_name": "DescriptionStyleModel",
          "model_module_version": "1.5.0",
          "state": {
            "_model_module": "@jupyter-widgets/controls",
            "_model_module_version": "1.5.0",
            "_model_name": "DescriptionStyleModel",
            "_view_count": null,
            "_view_module": "@jupyter-widgets/base",
            "_view_module_version": "1.2.0",
            "_view_name": "StyleView",
            "description_width": ""
          }
        },
        "55d632a50f4d4ac88c486f3f55f74e43": {
          "model_module": "@jupyter-widgets/controls",
          "model_name": "HBoxModel",
          "model_module_version": "1.5.0",
          "state": {
            "_dom_classes": [],
            "_model_module": "@jupyter-widgets/controls",
            "_model_module_version": "1.5.0",
            "_model_name": "HBoxModel",
            "_view_count": null,
            "_view_module": "@jupyter-widgets/controls",
            "_view_module_version": "1.5.0",
            "_view_name": "HBoxView",
            "box_style": "",
            "children": [
              "IPY_MODEL_f0f08aa9e81a4d4c8ad8e3197faa1a71",
              "IPY_MODEL_35987412e2b447febe80c5ab3ce5aba2",
              "IPY_MODEL_c3063c0817c54471a9ff108cf7bf217e"
            ],
            "layout": "IPY_MODEL_62b8e660702e4e72bc81b4fb11246e6a"
          }
        },
        "f0f08aa9e81a4d4c8ad8e3197faa1a71": {
          "model_module": "@jupyter-widgets/controls",
          "model_name": "HTMLModel",
          "model_module_version": "1.5.0",
          "state": {
            "_dom_classes": [],
            "_model_module": "@jupyter-widgets/controls",
            "_model_module_version": "1.5.0",
            "_model_name": "HTMLModel",
            "_view_count": null,
            "_view_module": "@jupyter-widgets/controls",
            "_view_module_version": "1.5.0",
            "_view_name": "HTMLView",
            "description": "",
            "description_tooltip": null,
            "layout": "IPY_MODEL_1c8d5e29572940e2bd61d5546babc3d7",
            "placeholder": "​",
            "style": "IPY_MODEL_74a79574a43a490ba33c1cb86e11adc1",
            "value": "100%"
          }
        },
        "35987412e2b447febe80c5ab3ce5aba2": {
          "model_module": "@jupyter-widgets/controls",
          "model_name": "FloatProgressModel",
          "model_module_version": "1.5.0",
          "state": {
            "_dom_classes": [],
            "_model_module": "@jupyter-widgets/controls",
            "_model_module_version": "1.5.0",
            "_model_name": "FloatProgressModel",
            "_view_count": null,
            "_view_module": "@jupyter-widgets/controls",
            "_view_module_version": "1.5.0",
            "_view_name": "ProgressView",
            "bar_style": "success",
            "description": "",
            "description_tooltip": null,
            "layout": "IPY_MODEL_53f5d29de2e149c59f45974f69f4ae6d",
            "max": 28881,
            "min": 0,
            "orientation": "horizontal",
            "style": "IPY_MODEL_9d61535d75eb4af180f2d61608391786",
            "value": 28881
          }
        },
        "c3063c0817c54471a9ff108cf7bf217e": {
          "model_module": "@jupyter-widgets/controls",
          "model_name": "HTMLModel",
          "model_module_version": "1.5.0",
          "state": {
            "_dom_classes": [],
            "_model_module": "@jupyter-widgets/controls",
            "_model_module_version": "1.5.0",
            "_model_name": "HTMLModel",
            "_view_count": null,
            "_view_module": "@jupyter-widgets/controls",
            "_view_module_version": "1.5.0",
            "_view_name": "HTMLView",
            "description": "",
            "description_tooltip": null,
            "layout": "IPY_MODEL_4279f33552624b489f0a90ba3018feda",
            "placeholder": "​",
            "style": "IPY_MODEL_55c4ef552ac34a38ad0375421d7a40a8",
            "value": " 28881/28881 [00:00&lt;00:00, 2120129.06it/s]"
          }
        },
        "62b8e660702e4e72bc81b4fb11246e6a": {
          "model_module": "@jupyter-widgets/base",
          "model_name": "LayoutModel",
          "model_module_version": "1.2.0",
          "state": {
            "_model_module": "@jupyter-widgets/base",
            "_model_module_version": "1.2.0",
            "_model_name": "LayoutModel",
            "_view_count": null,
            "_view_module": "@jupyter-widgets/base",
            "_view_module_version": "1.2.0",
            "_view_name": "LayoutView",
            "align_content": null,
            "align_items": null,
            "align_self": null,
            "border": null,
            "bottom": null,
            "display": null,
            "flex": null,
            "flex_flow": null,
            "grid_area": null,
            "grid_auto_columns": null,
            "grid_auto_flow": null,
            "grid_auto_rows": null,
            "grid_column": null,
            "grid_gap": null,
            "grid_row": null,
            "grid_template_areas": null,
            "grid_template_columns": null,
            "grid_template_rows": null,
            "height": null,
            "justify_content": null,
            "justify_items": null,
            "left": null,
            "margin": null,
            "max_height": null,
            "max_width": null,
            "min_height": null,
            "min_width": null,
            "object_fit": null,
            "object_position": null,
            "order": null,
            "overflow": null,
            "overflow_x": null,
            "overflow_y": null,
            "padding": null,
            "right": null,
            "top": null,
            "visibility": null,
            "width": null
          }
        },
        "1c8d5e29572940e2bd61d5546babc3d7": {
          "model_module": "@jupyter-widgets/base",
          "model_name": "LayoutModel",
          "model_module_version": "1.2.0",
          "state": {
            "_model_module": "@jupyter-widgets/base",
            "_model_module_version": "1.2.0",
            "_model_name": "LayoutModel",
            "_view_count": null,
            "_view_module": "@jupyter-widgets/base",
            "_view_module_version": "1.2.0",
            "_view_name": "LayoutView",
            "align_content": null,
            "align_items": null,
            "align_self": null,
            "border": null,
            "bottom": null,
            "display": null,
            "flex": null,
            "flex_flow": null,
            "grid_area": null,
            "grid_auto_columns": null,
            "grid_auto_flow": null,
            "grid_auto_rows": null,
            "grid_column": null,
            "grid_gap": null,
            "grid_row": null,
            "grid_template_areas": null,
            "grid_template_columns": null,
            "grid_template_rows": null,
            "height": null,
            "justify_content": null,
            "justify_items": null,
            "left": null,
            "margin": null,
            "max_height": null,
            "max_width": null,
            "min_height": null,
            "min_width": null,
            "object_fit": null,
            "object_position": null,
            "order": null,
            "overflow": null,
            "overflow_x": null,
            "overflow_y": null,
            "padding": null,
            "right": null,
            "top": null,
            "visibility": null,
            "width": null
          }
        },
        "74a79574a43a490ba33c1cb86e11adc1": {
          "model_module": "@jupyter-widgets/controls",
          "model_name": "DescriptionStyleModel",
          "model_module_version": "1.5.0",
          "state": {
            "_model_module": "@jupyter-widgets/controls",
            "_model_module_version": "1.5.0",
            "_model_name": "DescriptionStyleModel",
            "_view_count": null,
            "_view_module": "@jupyter-widgets/base",
            "_view_module_version": "1.2.0",
            "_view_name": "StyleView",
            "description_width": ""
          }
        },
        "53f5d29de2e149c59f45974f69f4ae6d": {
          "model_module": "@jupyter-widgets/base",
          "model_name": "LayoutModel",
          "model_module_version": "1.2.0",
          "state": {
            "_model_module": "@jupyter-widgets/base",
            "_model_module_version": "1.2.0",
            "_model_name": "LayoutModel",
            "_view_count": null,
            "_view_module": "@jupyter-widgets/base",
            "_view_module_version": "1.2.0",
            "_view_name": "LayoutView",
            "align_content": null,
            "align_items": null,
            "align_self": null,
            "border": null,
            "bottom": null,
            "display": null,
            "flex": null,
            "flex_flow": null,
            "grid_area": null,
            "grid_auto_columns": null,
            "grid_auto_flow": null,
            "grid_auto_rows": null,
            "grid_column": null,
            "grid_gap": null,
            "grid_row": null,
            "grid_template_areas": null,
            "grid_template_columns": null,
            "grid_template_rows": null,
            "height": null,
            "justify_content": null,
            "justify_items": null,
            "left": null,
            "margin": null,
            "max_height": null,
            "max_width": null,
            "min_height": null,
            "min_width": null,
            "object_fit": null,
            "object_position": null,
            "order": null,
            "overflow": null,
            "overflow_x": null,
            "overflow_y": null,
            "padding": null,
            "right": null,
            "top": null,
            "visibility": null,
            "width": null
          }
        },
        "9d61535d75eb4af180f2d61608391786": {
          "model_module": "@jupyter-widgets/controls",
          "model_name": "ProgressStyleModel",
          "model_module_version": "1.5.0",
          "state": {
            "_model_module": "@jupyter-widgets/controls",
            "_model_module_version": "1.5.0",
            "_model_name": "ProgressStyleModel",
            "_view_count": null,
            "_view_module": "@jupyter-widgets/base",
            "_view_module_version": "1.2.0",
            "_view_name": "StyleView",
            "bar_color": null,
            "description_width": ""
          }
        },
        "4279f33552624b489f0a90ba3018feda": {
          "model_module": "@jupyter-widgets/base",
          "model_name": "LayoutModel",
          "model_module_version": "1.2.0",
          "state": {
            "_model_module": "@jupyter-widgets/base",
            "_model_module_version": "1.2.0",
            "_model_name": "LayoutModel",
            "_view_count": null,
            "_view_module": "@jupyter-widgets/base",
            "_view_module_version": "1.2.0",
            "_view_name": "LayoutView",
            "align_content": null,
            "align_items": null,
            "align_self": null,
            "border": null,
            "bottom": null,
            "display": null,
            "flex": null,
            "flex_flow": null,
            "grid_area": null,
            "grid_auto_columns": null,
            "grid_auto_flow": null,
            "grid_auto_rows": null,
            "grid_column": null,
            "grid_gap": null,
            "grid_row": null,
            "grid_template_areas": null,
            "grid_template_columns": null,
            "grid_template_rows": null,
            "height": null,
            "justify_content": null,
            "justify_items": null,
            "left": null,
            "margin": null,
            "max_height": null,
            "max_width": null,
            "min_height": null,
            "min_width": null,
            "object_fit": null,
            "object_position": null,
            "order": null,
            "overflow": null,
            "overflow_x": null,
            "overflow_y": null,
            "padding": null,
            "right": null,
            "top": null,
            "visibility": null,
            "width": null
          }
        },
        "55c4ef552ac34a38ad0375421d7a40a8": {
          "model_module": "@jupyter-widgets/controls",
          "model_name": "DescriptionStyleModel",
          "model_module_version": "1.5.0",
          "state": {
            "_model_module": "@jupyter-widgets/controls",
            "_model_module_version": "1.5.0",
            "_model_name": "DescriptionStyleModel",
            "_view_count": null,
            "_view_module": "@jupyter-widgets/base",
            "_view_module_version": "1.2.0",
            "_view_name": "StyleView",
            "description_width": ""
          }
        },
        "92a868e8071e42b4b2438c5e184f95fa": {
          "model_module": "@jupyter-widgets/controls",
          "model_name": "HBoxModel",
          "model_module_version": "1.5.0",
          "state": {
            "_dom_classes": [],
            "_model_module": "@jupyter-widgets/controls",
            "_model_module_version": "1.5.0",
            "_model_name": "HBoxModel",
            "_view_count": null,
            "_view_module": "@jupyter-widgets/controls",
            "_view_module_version": "1.5.0",
            "_view_name": "HBoxView",
            "box_style": "",
            "children": [
              "IPY_MODEL_bdaa3f33f27f480a8b117b49576b0d02",
              "IPY_MODEL_0c232b2d651c4f1b9592a6d1109a0947",
              "IPY_MODEL_30c9b7904fb44945b941457d6dc9560e"
            ],
            "layout": "IPY_MODEL_bdca1ea1c0d242aab382139795c66f6c"
          }
        },
        "bdaa3f33f27f480a8b117b49576b0d02": {
          "model_module": "@jupyter-widgets/controls",
          "model_name": "HTMLModel",
          "model_module_version": "1.5.0",
          "state": {
            "_dom_classes": [],
            "_model_module": "@jupyter-widgets/controls",
            "_model_module_version": "1.5.0",
            "_model_name": "HTMLModel",
            "_view_count": null,
            "_view_module": "@jupyter-widgets/controls",
            "_view_module_version": "1.5.0",
            "_view_name": "HTMLView",
            "description": "",
            "description_tooltip": null,
            "layout": "IPY_MODEL_6b2c0cdf251c4203aafe6ff41a6c188b",
            "placeholder": "​",
            "style": "IPY_MODEL_afd11b9829044fe383359308294334f0",
            "value": "100%"
          }
        },
        "0c232b2d651c4f1b9592a6d1109a0947": {
          "model_module": "@jupyter-widgets/controls",
          "model_name": "FloatProgressModel",
          "model_module_version": "1.5.0",
          "state": {
            "_dom_classes": [],
            "_model_module": "@jupyter-widgets/controls",
            "_model_module_version": "1.5.0",
            "_model_name": "FloatProgressModel",
            "_view_count": null,
            "_view_module": "@jupyter-widgets/controls",
            "_view_module_version": "1.5.0",
            "_view_name": "ProgressView",
            "bar_style": "success",
            "description": "",
            "description_tooltip": null,
            "layout": "IPY_MODEL_1a4195f65f0f4ca3bcaa831a777cec3b",
            "max": 1648877,
            "min": 0,
            "orientation": "horizontal",
            "style": "IPY_MODEL_cf1ca6e6bd5a4df6b4a853d6ef6bd692",
            "value": 1648877
          }
        },
        "30c9b7904fb44945b941457d6dc9560e": {
          "model_module": "@jupyter-widgets/controls",
          "model_name": "HTMLModel",
          "model_module_version": "1.5.0",
          "state": {
            "_dom_classes": [],
            "_model_module": "@jupyter-widgets/controls",
            "_model_module_version": "1.5.0",
            "_model_name": "HTMLModel",
            "_view_count": null,
            "_view_module": "@jupyter-widgets/controls",
            "_view_module_version": "1.5.0",
            "_view_name": "HTMLView",
            "description": "",
            "description_tooltip": null,
            "layout": "IPY_MODEL_4673cf0810084193ba613f3aaf0699f3",
            "placeholder": "​",
            "style": "IPY_MODEL_3e87df337d804006a96c51fed1dd18e9",
            "value": " 1648877/1648877 [00:00&lt;00:00, 57236542.22it/s]"
          }
        },
        "bdca1ea1c0d242aab382139795c66f6c": {
          "model_module": "@jupyter-widgets/base",
          "model_name": "LayoutModel",
          "model_module_version": "1.2.0",
          "state": {
            "_model_module": "@jupyter-widgets/base",
            "_model_module_version": "1.2.0",
            "_model_name": "LayoutModel",
            "_view_count": null,
            "_view_module": "@jupyter-widgets/base",
            "_view_module_version": "1.2.0",
            "_view_name": "LayoutView",
            "align_content": null,
            "align_items": null,
            "align_self": null,
            "border": null,
            "bottom": null,
            "display": null,
            "flex": null,
            "flex_flow": null,
            "grid_area": null,
            "grid_auto_columns": null,
            "grid_auto_flow": null,
            "grid_auto_rows": null,
            "grid_column": null,
            "grid_gap": null,
            "grid_row": null,
            "grid_template_areas": null,
            "grid_template_columns": null,
            "grid_template_rows": null,
            "height": null,
            "justify_content": null,
            "justify_items": null,
            "left": null,
            "margin": null,
            "max_height": null,
            "max_width": null,
            "min_height": null,
            "min_width": null,
            "object_fit": null,
            "object_position": null,
            "order": null,
            "overflow": null,
            "overflow_x": null,
            "overflow_y": null,
            "padding": null,
            "right": null,
            "top": null,
            "visibility": null,
            "width": null
          }
        },
        "6b2c0cdf251c4203aafe6ff41a6c188b": {
          "model_module": "@jupyter-widgets/base",
          "model_name": "LayoutModel",
          "model_module_version": "1.2.0",
          "state": {
            "_model_module": "@jupyter-widgets/base",
            "_model_module_version": "1.2.0",
            "_model_name": "LayoutModel",
            "_view_count": null,
            "_view_module": "@jupyter-widgets/base",
            "_view_module_version": "1.2.0",
            "_view_name": "LayoutView",
            "align_content": null,
            "align_items": null,
            "align_self": null,
            "border": null,
            "bottom": null,
            "display": null,
            "flex": null,
            "flex_flow": null,
            "grid_area": null,
            "grid_auto_columns": null,
            "grid_auto_flow": null,
            "grid_auto_rows": null,
            "grid_column": null,
            "grid_gap": null,
            "grid_row": null,
            "grid_template_areas": null,
            "grid_template_columns": null,
            "grid_template_rows": null,
            "height": null,
            "justify_content": null,
            "justify_items": null,
            "left": null,
            "margin": null,
            "max_height": null,
            "max_width": null,
            "min_height": null,
            "min_width": null,
            "object_fit": null,
            "object_position": null,
            "order": null,
            "overflow": null,
            "overflow_x": null,
            "overflow_y": null,
            "padding": null,
            "right": null,
            "top": null,
            "visibility": null,
            "width": null
          }
        },
        "afd11b9829044fe383359308294334f0": {
          "model_module": "@jupyter-widgets/controls",
          "model_name": "DescriptionStyleModel",
          "model_module_version": "1.5.0",
          "state": {
            "_model_module": "@jupyter-widgets/controls",
            "_model_module_version": "1.5.0",
            "_model_name": "DescriptionStyleModel",
            "_view_count": null,
            "_view_module": "@jupyter-widgets/base",
            "_view_module_version": "1.2.0",
            "_view_name": "StyleView",
            "description_width": ""
          }
        },
        "1a4195f65f0f4ca3bcaa831a777cec3b": {
          "model_module": "@jupyter-widgets/base",
          "model_name": "LayoutModel",
          "model_module_version": "1.2.0",
          "state": {
            "_model_module": "@jupyter-widgets/base",
            "_model_module_version": "1.2.0",
            "_model_name": "LayoutModel",
            "_view_count": null,
            "_view_module": "@jupyter-widgets/base",
            "_view_module_version": "1.2.0",
            "_view_name": "LayoutView",
            "align_content": null,
            "align_items": null,
            "align_self": null,
            "border": null,
            "bottom": null,
            "display": null,
            "flex": null,
            "flex_flow": null,
            "grid_area": null,
            "grid_auto_columns": null,
            "grid_auto_flow": null,
            "grid_auto_rows": null,
            "grid_column": null,
            "grid_gap": null,
            "grid_row": null,
            "grid_template_areas": null,
            "grid_template_columns": null,
            "grid_template_rows": null,
            "height": null,
            "justify_content": null,
            "justify_items": null,
            "left": null,
            "margin": null,
            "max_height": null,
            "max_width": null,
            "min_height": null,
            "min_width": null,
            "object_fit": null,
            "object_position": null,
            "order": null,
            "overflow": null,
            "overflow_x": null,
            "overflow_y": null,
            "padding": null,
            "right": null,
            "top": null,
            "visibility": null,
            "width": null
          }
        },
        "cf1ca6e6bd5a4df6b4a853d6ef6bd692": {
          "model_module": "@jupyter-widgets/controls",
          "model_name": "ProgressStyleModel",
          "model_module_version": "1.5.0",
          "state": {
            "_model_module": "@jupyter-widgets/controls",
            "_model_module_version": "1.5.0",
            "_model_name": "ProgressStyleModel",
            "_view_count": null,
            "_view_module": "@jupyter-widgets/base",
            "_view_module_version": "1.2.0",
            "_view_name": "StyleView",
            "bar_color": null,
            "description_width": ""
          }
        },
        "4673cf0810084193ba613f3aaf0699f3": {
          "model_module": "@jupyter-widgets/base",
          "model_name": "LayoutModel",
          "model_module_version": "1.2.0",
          "state": {
            "_model_module": "@jupyter-widgets/base",
            "_model_module_version": "1.2.0",
            "_model_name": "LayoutModel",
            "_view_count": null,
            "_view_module": "@jupyter-widgets/base",
            "_view_module_version": "1.2.0",
            "_view_name": "LayoutView",
            "align_content": null,
            "align_items": null,
            "align_self": null,
            "border": null,
            "bottom": null,
            "display": null,
            "flex": null,
            "flex_flow": null,
            "grid_area": null,
            "grid_auto_columns": null,
            "grid_auto_flow": null,
            "grid_auto_rows": null,
            "grid_column": null,
            "grid_gap": null,
            "grid_row": null,
            "grid_template_areas": null,
            "grid_template_columns": null,
            "grid_template_rows": null,
            "height": null,
            "justify_content": null,
            "justify_items": null,
            "left": null,
            "margin": null,
            "max_height": null,
            "max_width": null,
            "min_height": null,
            "min_width": null,
            "object_fit": null,
            "object_position": null,
            "order": null,
            "overflow": null,
            "overflow_x": null,
            "overflow_y": null,
            "padding": null,
            "right": null,
            "top": null,
            "visibility": null,
            "width": null
          }
        },
        "3e87df337d804006a96c51fed1dd18e9": {
          "model_module": "@jupyter-widgets/controls",
          "model_name": "DescriptionStyleModel",
          "model_module_version": "1.5.0",
          "state": {
            "_model_module": "@jupyter-widgets/controls",
            "_model_module_version": "1.5.0",
            "_model_name": "DescriptionStyleModel",
            "_view_count": null,
            "_view_module": "@jupyter-widgets/base",
            "_view_module_version": "1.2.0",
            "_view_name": "StyleView",
            "description_width": ""
          }
        },
        "cc41089e365f42c8be44b21195446d5b": {
          "model_module": "@jupyter-widgets/controls",
          "model_name": "HBoxModel",
          "model_module_version": "1.5.0",
          "state": {
            "_dom_classes": [],
            "_model_module": "@jupyter-widgets/controls",
            "_model_module_version": "1.5.0",
            "_model_name": "HBoxModel",
            "_view_count": null,
            "_view_module": "@jupyter-widgets/controls",
            "_view_module_version": "1.5.0",
            "_view_name": "HBoxView",
            "box_style": "",
            "children": [
              "IPY_MODEL_f312908f5aad4ecc9acdc076b4678538",
              "IPY_MODEL_c9b1dd9e03ac4e1f9be12bcd4a4045f3",
              "IPY_MODEL_dfb290fa34df4fb9acd675fe18d736da"
            ],
            "layout": "IPY_MODEL_fc8bcdc139d14b71b93e635fc9c04244"
          }
        },
        "f312908f5aad4ecc9acdc076b4678538": {
          "model_module": "@jupyter-widgets/controls",
          "model_name": "HTMLModel",
          "model_module_version": "1.5.0",
          "state": {
            "_dom_classes": [],
            "_model_module": "@jupyter-widgets/controls",
            "_model_module_version": "1.5.0",
            "_model_name": "HTMLModel",
            "_view_count": null,
            "_view_module": "@jupyter-widgets/controls",
            "_view_module_version": "1.5.0",
            "_view_name": "HTMLView",
            "description": "",
            "description_tooltip": null,
            "layout": "IPY_MODEL_c8075060b21f4f83babc108793b43c6c",
            "placeholder": "​",
            "style": "IPY_MODEL_70fe9ba54bf54ff98ddb4da5f1e9ba71",
            "value": "100%"
          }
        },
        "c9b1dd9e03ac4e1f9be12bcd4a4045f3": {
          "model_module": "@jupyter-widgets/controls",
          "model_name": "FloatProgressModel",
          "model_module_version": "1.5.0",
          "state": {
            "_dom_classes": [],
            "_model_module": "@jupyter-widgets/controls",
            "_model_module_version": "1.5.0",
            "_model_name": "FloatProgressModel",
            "_view_count": null,
            "_view_module": "@jupyter-widgets/controls",
            "_view_module_version": "1.5.0",
            "_view_name": "ProgressView",
            "bar_style": "success",
            "description": "",
            "description_tooltip": null,
            "layout": "IPY_MODEL_67a89a04035748948447d41976a3e382",
            "max": 4542,
            "min": 0,
            "orientation": "horizontal",
            "style": "IPY_MODEL_24f81d1fbf3e49e3a437095e84ace678",
            "value": 4542
          }
        },
        "dfb290fa34df4fb9acd675fe18d736da": {
          "model_module": "@jupyter-widgets/controls",
          "model_name": "HTMLModel",
          "model_module_version": "1.5.0",
          "state": {
            "_dom_classes": [],
            "_model_module": "@jupyter-widgets/controls",
            "_model_module_version": "1.5.0",
            "_model_name": "HTMLModel",
            "_view_count": null,
            "_view_module": "@jupyter-widgets/controls",
            "_view_module_version": "1.5.0",
            "_view_name": "HTMLView",
            "description": "",
            "description_tooltip": null,
            "layout": "IPY_MODEL_ddae2ab4630449c09b9a672bb6adba2b",
            "placeholder": "​",
            "style": "IPY_MODEL_ba1dd60ba9ca402fae75b2eb1166caa9",
            "value": " 4542/4542 [00:00&lt;00:00, 251485.49it/s]"
          }
        },
        "fc8bcdc139d14b71b93e635fc9c04244": {
          "model_module": "@jupyter-widgets/base",
          "model_name": "LayoutModel",
          "model_module_version": "1.2.0",
          "state": {
            "_model_module": "@jupyter-widgets/base",
            "_model_module_version": "1.2.0",
            "_model_name": "LayoutModel",
            "_view_count": null,
            "_view_module": "@jupyter-widgets/base",
            "_view_module_version": "1.2.0",
            "_view_name": "LayoutView",
            "align_content": null,
            "align_items": null,
            "align_self": null,
            "border": null,
            "bottom": null,
            "display": null,
            "flex": null,
            "flex_flow": null,
            "grid_area": null,
            "grid_auto_columns": null,
            "grid_auto_flow": null,
            "grid_auto_rows": null,
            "grid_column": null,
            "grid_gap": null,
            "grid_row": null,
            "grid_template_areas": null,
            "grid_template_columns": null,
            "grid_template_rows": null,
            "height": null,
            "justify_content": null,
            "justify_items": null,
            "left": null,
            "margin": null,
            "max_height": null,
            "max_width": null,
            "min_height": null,
            "min_width": null,
            "object_fit": null,
            "object_position": null,
            "order": null,
            "overflow": null,
            "overflow_x": null,
            "overflow_y": null,
            "padding": null,
            "right": null,
            "top": null,
            "visibility": null,
            "width": null
          }
        },
        "c8075060b21f4f83babc108793b43c6c": {
          "model_module": "@jupyter-widgets/base",
          "model_name": "LayoutModel",
          "model_module_version": "1.2.0",
          "state": {
            "_model_module": "@jupyter-widgets/base",
            "_model_module_version": "1.2.0",
            "_model_name": "LayoutModel",
            "_view_count": null,
            "_view_module": "@jupyter-widgets/base",
            "_view_module_version": "1.2.0",
            "_view_name": "LayoutView",
            "align_content": null,
            "align_items": null,
            "align_self": null,
            "border": null,
            "bottom": null,
            "display": null,
            "flex": null,
            "flex_flow": null,
            "grid_area": null,
            "grid_auto_columns": null,
            "grid_auto_flow": null,
            "grid_auto_rows": null,
            "grid_column": null,
            "grid_gap": null,
            "grid_row": null,
            "grid_template_areas": null,
            "grid_template_columns": null,
            "grid_template_rows": null,
            "height": null,
            "justify_content": null,
            "justify_items": null,
            "left": null,
            "margin": null,
            "max_height": null,
            "max_width": null,
            "min_height": null,
            "min_width": null,
            "object_fit": null,
            "object_position": null,
            "order": null,
            "overflow": null,
            "overflow_x": null,
            "overflow_y": null,
            "padding": null,
            "right": null,
            "top": null,
            "visibility": null,
            "width": null
          }
        },
        "70fe9ba54bf54ff98ddb4da5f1e9ba71": {
          "model_module": "@jupyter-widgets/controls",
          "model_name": "DescriptionStyleModel",
          "model_module_version": "1.5.0",
          "state": {
            "_model_module": "@jupyter-widgets/controls",
            "_model_module_version": "1.5.0",
            "_model_name": "DescriptionStyleModel",
            "_view_count": null,
            "_view_module": "@jupyter-widgets/base",
            "_view_module_version": "1.2.0",
            "_view_name": "StyleView",
            "description_width": ""
          }
        },
        "67a89a04035748948447d41976a3e382": {
          "model_module": "@jupyter-widgets/base",
          "model_name": "LayoutModel",
          "model_module_version": "1.2.0",
          "state": {
            "_model_module": "@jupyter-widgets/base",
            "_model_module_version": "1.2.0",
            "_model_name": "LayoutModel",
            "_view_count": null,
            "_view_module": "@jupyter-widgets/base",
            "_view_module_version": "1.2.0",
            "_view_name": "LayoutView",
            "align_content": null,
            "align_items": null,
            "align_self": null,
            "border": null,
            "bottom": null,
            "display": null,
            "flex": null,
            "flex_flow": null,
            "grid_area": null,
            "grid_auto_columns": null,
            "grid_auto_flow": null,
            "grid_auto_rows": null,
            "grid_column": null,
            "grid_gap": null,
            "grid_row": null,
            "grid_template_areas": null,
            "grid_template_columns": null,
            "grid_template_rows": null,
            "height": null,
            "justify_content": null,
            "justify_items": null,
            "left": null,
            "margin": null,
            "max_height": null,
            "max_width": null,
            "min_height": null,
            "min_width": null,
            "object_fit": null,
            "object_position": null,
            "order": null,
            "overflow": null,
            "overflow_x": null,
            "overflow_y": null,
            "padding": null,
            "right": null,
            "top": null,
            "visibility": null,
            "width": null
          }
        },
        "24f81d1fbf3e49e3a437095e84ace678": {
          "model_module": "@jupyter-widgets/controls",
          "model_name": "ProgressStyleModel",
          "model_module_version": "1.5.0",
          "state": {
            "_model_module": "@jupyter-widgets/controls",
            "_model_module_version": "1.5.0",
            "_model_name": "ProgressStyleModel",
            "_view_count": null,
            "_view_module": "@jupyter-widgets/base",
            "_view_module_version": "1.2.0",
            "_view_name": "StyleView",
            "bar_color": null,
            "description_width": ""
          }
        },
        "ddae2ab4630449c09b9a672bb6adba2b": {
          "model_module": "@jupyter-widgets/base",
          "model_name": "LayoutModel",
          "model_module_version": "1.2.0",
          "state": {
            "_model_module": "@jupyter-widgets/base",
            "_model_module_version": "1.2.0",
            "_model_name": "LayoutModel",
            "_view_count": null,
            "_view_module": "@jupyter-widgets/base",
            "_view_module_version": "1.2.0",
            "_view_name": "LayoutView",
            "align_content": null,
            "align_items": null,
            "align_self": null,
            "border": null,
            "bottom": null,
            "display": null,
            "flex": null,
            "flex_flow": null,
            "grid_area": null,
            "grid_auto_columns": null,
            "grid_auto_flow": null,
            "grid_auto_rows": null,
            "grid_column": null,
            "grid_gap": null,
            "grid_row": null,
            "grid_template_areas": null,
            "grid_template_columns": null,
            "grid_template_rows": null,
            "height": null,
            "justify_content": null,
            "justify_items": null,
            "left": null,
            "margin": null,
            "max_height": null,
            "max_width": null,
            "min_height": null,
            "min_width": null,
            "object_fit": null,
            "object_position": null,
            "order": null,
            "overflow": null,
            "overflow_x": null,
            "overflow_y": null,
            "padding": null,
            "right": null,
            "top": null,
            "visibility": null,
            "width": null
          }
        },
        "ba1dd60ba9ca402fae75b2eb1166caa9": {
          "model_module": "@jupyter-widgets/controls",
          "model_name": "DescriptionStyleModel",
          "model_module_version": "1.5.0",
          "state": {
            "_model_module": "@jupyter-widgets/controls",
            "_model_module_version": "1.5.0",
            "_model_name": "DescriptionStyleModel",
            "_view_count": null,
            "_view_module": "@jupyter-widgets/base",
            "_view_module_version": "1.2.0",
            "_view_name": "StyleView",
            "description_width": ""
          }
        }
      }
    },
    "accelerator": "GPU",
    "gpuClass": "standard"
  },
  "nbformat": 4,
  "nbformat_minor": 5
}
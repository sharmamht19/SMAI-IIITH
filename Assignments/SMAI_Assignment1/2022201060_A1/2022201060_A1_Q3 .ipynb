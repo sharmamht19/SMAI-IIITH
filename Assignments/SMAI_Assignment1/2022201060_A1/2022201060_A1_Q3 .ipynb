{
  "cells": [
    {
      "cell_type": "markdown",
      "id": "improving-pepper",
      "metadata": {
        "id": "improving-pepper"
      },
      "source": [
        "# Assignment 1 - Question 3\n",
        "The objective of this assignment is to get you familiarize with  the  problem  of  `Linear Regression`.\n",
        "\n",
        "## Instructions\n",
        "- Write your code and analysis in the indicated cells.\n",
        "- Ensure that this notebook runs without errors when the cells are run in sequence.\n",
        "- Do not attempt to change the contents of other cells.\n",
        "- No inbuilt functions to be used until specified.\n",
        "\n",
        "## Submission\n",
        "- Ensure that this notebook runs without errors when the cells are run in sequence.\n",
        "- Rename the notebook to `<roll_number>_A1_Q3.ipynb`."
      ]
    },
    {
      "cell_type": "markdown",
      "id": "final-transaction",
      "metadata": {
        "id": "final-transaction"
      },
      "source": [
        "## 1.3.0 Background about the dataset\n",
        "\n",
        "TLDR: You have 25 independent variables (`x1, x2, x3, ... , x25`) type: `float` for each data point. You can use a linear combination of these 25 independent variables to predict the y (dependent variable) of each data point."
      ]
    },
    {
      "cell_type": "code",
      "execution_count": 2,
      "id": "lyric-olympus",
      "metadata": {
        "id": "lyric-olympus"
      },
      "outputs": [],
      "source": [
        "import csv\n",
        "import random\n",
        "import numpy as np\n",
        "import matplotlib.pyplot as plt\n",
        "import pandas as pd\n",
        "\n",
        "from prettytable import PrettyTable"
      ]
    },
    {
      "cell_type": "code",
      "execution_count": 3,
      "id": "hundred-receipt",
      "metadata": {
        "id": "hundred-receipt"
      },
      "outputs": [],
      "source": [
        "train_data = list()\n",
        "with open('train_q3.csv', 'r') as infile:\n",
        "    input_rows = csv.DictReader(infile)\n",
        "    for row in input_rows:\n",
        "        data_point = ([float(row['x1']), float(row['x2']), float(row['x3']),\n",
        "                       float(row['x4']), float(row['x5']), float(row['x6']),\n",
        "                        float(row['x7']), float(row['x8']), float(row['x9']),\n",
        "                        float(row['x10']), float(row['x11']), float(row['x12']),\n",
        "                        float(row['x13']), float(row['x14']), float(row['x15']),\n",
        "                        float(row['x16']), float(row['x17']), float(row['x18']),\n",
        "                        float(row['x19']), float(row['x20']), float(row['x21']),\n",
        "                        float(row['x22']), float(row['x23']), float(row['x24']),\n",
        "                        float(row['x25'])], float(row['y']))\n",
        "        train_data.append(data_point)\n",
        "        \n",
        "# each point in x_train has 25 values - 1 for each feature\n",
        "x_train = [x[0] for x in train_data]\n",
        "# each point in y_train has 1 value - the 'y' of the molecule\n",
        "y_train = [x[1] for x in train_data]\n",
        "\n",
        "\n",
        "test_data = list()\n",
        "with open('test_q3.csv', 'r') as infile:\n",
        "    input_rows = csv.DictReader(infile)\n",
        "    for row in input_rows:\n",
        "        data_point = ([float(row['x1']), float(row['x2']), float(row['x3']),\n",
        "                        float(row['x4']), float(row['x5']), float(row['x6']),\n",
        "                        float(row['x7']), float(row['x8']), float(row['x9']),\n",
        "                        float(row['x10']), float(row['x11']), float(row['x12']),\n",
        "                        float(row['x13']), float(row['x14']), float(row['x15']),\n",
        "                        float(row['x16']), float(row['x17']), float(row['x18']),\n",
        "                        float(row['x19']), float(row['x20']), float(row['x21']),\n",
        "                        float(row['x22']), float(row['x23']), float(row['x24']),\n",
        "                        float(row['x25'])], float(row['y']))\n",
        "        test_data.append(data_point)\n",
        "\n",
        "x_test = [x[0] for x in test_data]\n",
        "y_test = [x[1] for x in test_data]"
      ]
    },
    {
      "cell_type": "markdown",
      "id": "square-direction",
      "metadata": {
        "id": "square-direction"
      },
      "source": [
        "### 1.3.1 Implement a Linear Regression model that minimizes the MSE **without using any libraries**. You may use NumPy to vectorize your code, but *do not use numpy.polyfit* or anything similar.\n",
        "\n",
        "1.3.1.1 Explain how you plan to implement Linear Regression in 5-10 lines.\n",
        "\n",
        "1.3.1.2 Implement Linear Regression using `x_train` and `y_train` as the train dataset.\n",
        "\n",
        "1.3.2.3 Choose the best learning rate and print the learning rate for which you achieved the best MSE.\n",
        "\n",
        "1.2.1.4 Make a [Parity Plot](https://en.wikipedia.org/wiki/Parity_plot) of your model's bandgap predictions on the test set with the actual values."
      ]
    },
    {
      "cell_type": "code",
      "source": [
        "x_train = np.array(x_train)\n",
        "y_train = np.array(y_train)\n",
        "x_test = np.array(x_test)\n",
        "y_test = np.array(y_test)\n",
        "x_train=np.vstack((np.ones((x_train.shape[0],)),x_train.T)).T\n",
        "x_test=np.vstack((np.ones((x_test.shape[0],)),x_test.T)).T\n"
      ],
      "metadata": {
        "id": "w8HHjA8bdaIS"
      },
      "id": "w8HHjA8bdaIS",
      "execution_count": 4,
      "outputs": []
    },
    {
      "cell_type": "markdown",
      "id": "frozen-forth",
      "metadata": {
        "id": "frozen-forth"
      },
      "source": [
        "<!-- your answer to 1.3.1.1 -->\n",
        "`ANSWER 1.3.1.1`\n",
        "\n",
        "  Linear regression assumes a linear relationship between the independent variables(X1-X25) and the single dependent variable (y).\n",
        "\n",
        "  More specifically, that output (y) can be calculated from a linear combination of the independent variables\n",
        "\n",
        "  In simple linear regression we can use statistics on the training data to estimate the coefficients required by the model to make predictions on new data.\n",
        "The line for a simple linear regression model can be written as:\n",
        "\n",
        "`y = b0 + b1 * x`\n",
        "\n",
        "where b0 and b1 are the coefficients we must estimate from the training data, here b0 = bias and b1 = weights vector for each feature.\n",
        "\n",
        "Once the coefficients are known, we can use this equation to estimate output values for y given new input examples of x.\n",
        "\n",
        "We can get the coefficients by passing different learning rate and for each learning rate we will get different coefficients and after putting it in the above equation we will get different losses for test data and for whichever weight we get minimum loss we will select those coefficients."
      ]
    },
    {
      "cell_type": "code",
      "source": [
        "x_train[0]"
      ],
      "metadata": {
        "colab": {
          "base_uri": "https://localhost:8080/"
        },
        "id": "wgOC8tEk06qd",
        "outputId": "a9cf8b4a-2868-41ed-8cee-90d85e0bf7f2"
      },
      "id": "wgOC8tEk06qd",
      "execution_count": 5,
      "outputs": [
        {
          "output_type": "execute_result",
          "data": {
            "text/plain": [
              "array([ 1.        , -0.9996463 ,  0.99929273, -0.99893928,  0.99858596,\n",
              "       -0.99823276,  0.99787969, -0.99752674,  0.99717392, -0.99682122,\n",
              "        0.99646865, -0.9961162 ,  0.99576388, -0.99541168,  0.9950596 ,\n",
              "       -0.99470765,  0.99435583, -0.99400413,  0.99365255, -0.9933011 ,\n",
              "        0.99294977, -0.99259856,  0.99224748, -0.99189653,  0.9915457 ,\n",
              "       -0.99119499])"
            ]
          },
          "metadata": {},
          "execution_count": 5
        }
      ]
    },
    {
      "cell_type": "code",
      "execution_count": 6,
      "id": "angry-depression",
      "metadata": {
        "id": "angry-depression"
      },
      "outputs": [],
      "source": [
        "# 1.3.1.2\n",
        "# implement Linear Regression\n",
        "def LinearRegression(x_train,y_train,learning_rate,iteration):\n",
        "  n=y_train.size\n",
        "  theta=np.zeros((x_train.shape[1],1))\n",
        "  y_train=y_train.reshape((y_train.shape[0],1))\n",
        "  for itr in range(iteration):\n",
        "    y_pred=np.dot(x_train,theta)\n",
        "    # cost=(1/(n))*np.sum(np.square(y_pred-y_train))\n",
        "    d_theta=(1/n)*np.dot(x_train.T,y_pred-y_train)\n",
        "    theta=theta-learning_rate*d_theta\n",
        "    # if(itr%1000 == 0):\n",
        "    #   print(cost)  \n",
        "  return theta"
      ]
    },
    {
      "cell_type": "code",
      "execution_count": 8,
      "id": "b19c0ac4",
      "metadata": {
        "id": "b19c0ac4",
        "colab": {
          "base_uri": "https://localhost:8080/"
        },
        "outputId": "76bff50e-59a1-4ba9-891c-142e7bcaeb95"
      },
      "outputs": [
        {
          "output_type": "stream",
          "name": "stdout",
          "text": [
            "+---------------+----------------------+\n",
            "| learning rate |         MSE          |\n",
            "+---------------+----------------------+\n",
            "|       1       | 0.15546751299125572  |\n",
            "|      0.75     | 0.12668241078539283  |\n",
            "|      0.5      | 0.07569830486530749  |\n",
            "|      0.25     | 0.01532033601794226  |\n",
            "|      0.1      | 0.006584420507792627 |\n",
            "|     0.075     | 0.009005289268607889 |\n",
            "|      0.05     | 0.00815667198584769  |\n",
            "|      0.03     | 0.001574128737249006 |\n",
            "|      0.02     | 0.012797025041409943 |\n",
            "|      0.01     | 0.08974534864763449  |\n",
            "|    0.00875    | 0.10382646449441899  |\n",
            "+---------------+----------------------+\n"
          ]
        }
      ],
      "source": [
        "# 1.3.2.3\n",
        "# try with different learning rates and choose the best one\n",
        "iteration=10000\n",
        "optimal_lr=0\n",
        "min_MSE=1\n",
        "learning_rates=[1,0.75,0.5,0.25,0.1,0.075,0.05,0.03,0.02,0.01,0.00875]\n",
        "myTable = PrettyTable([\"learning rate\", \"MSE\"])\n",
        "for lrn_rate in learning_rates:\n",
        "  theta=LinearRegression(x_train,y_train,lrn_rate,iteration)\n",
        "  y_pred=np.dot(x_test,theta)\n",
        "  y_test = y_test.reshape((y_test.shape[0],1))\n",
        "  mse=(1/x_test.shape[0])*np.sum(np.square(y_pred-y_test))\n",
        "  if min_MSE>mse:\n",
        "    min_MSE=mse\n",
        "    optimal_lr=lrn_rate\n",
        "  myTable.add_row([lrn_rate, mse])\n",
        "  \n",
        "print(myTable)"
      ]
    },
    {
      "cell_type": "code",
      "source": [
        "iteration=10000\n",
        "learning_rate=optimal_lr\n",
        "theta=LinearRegression(x_train,y_train,learning_rate,iteration)\n",
        "y_pred=np.dot(x_test,theta)\n",
        "y_test = y_test.reshape((y_test.shape[0],1))\n",
        "mse=(1/x_test.shape[0])*np.sum(np.square(y_pred-y_test))\n",
        "mse"
      ],
      "metadata": {
        "colab": {
          "base_uri": "https://localhost:8080/"
        },
        "id": "tHiNPTl8S_Iq",
        "outputId": "8796e4b2-a1c3-4441-d458-77f4ff329a7c"
      },
      "id": "tHiNPTl8S_Iq",
      "execution_count": 9,
      "outputs": [
        {
          "output_type": "execute_result",
          "data": {
            "text/plain": [
              "0.001574128737249006"
            ]
          },
          "metadata": {},
          "execution_count": 9
        }
      ]
    },
    {
      "cell_type": "code",
      "execution_count": 10,
      "id": "foster-center",
      "metadata": {
        "id": "foster-center",
        "colab": {
          "base_uri": "https://localhost:8080/",
          "height": 458
        },
        "outputId": "614e4af2-60f3-4095-b747-2ee7fca797e6"
      },
      "outputs": [
        {
          "output_type": "display_data",
          "data": {
            "text/plain": [
              "<Figure size 504x504 with 1 Axes>"
            ],
            "image/png": "[encoded data removed]"
          },
          "metadata": {
            "needs_background": "light"
          }
        }
      ],
      "source": [
        "# 1.3.1.4\n",
        "# Get the predictions of x_test into `y_pred`\n",
        "\n",
        "fig, ax = plt.subplots(figsize=(7,7))\n",
        "\n",
        "ax.scatter(y_test, y_pred)\n",
        "\n",
        "lims = [\n",
        "    np.min([ax.get_xlim(), ax.get_ylim()]),\n",
        "    np.max([ax.get_xlim(), ax.get_ylim()]),\n",
        "]\n",
        "ax.plot(lims, lims, 'k-', alpha=0.75, zorder=0)\n",
        "ax.set_aspect('equal')\n",
        "ax.set_xlim(lims)\n",
        "ax.set_ylim(lims)\n",
        "\n",
        "ax.set_title('Parity Plot of Custom Linear Regression')\n",
        "ax.set_xlabel('Ground truth y-values')\n",
        "ax.set_ylabel('Predicted y-values')\n",
        "plt.show()"
      ]
    },
    {
      "cell_type": "markdown",
      "id": "dominant-chaos",
      "metadata": {
        "id": "dominant-chaos"
      },
      "source": [
        "### 1.3.2 Implement Ridge Regression\n",
        "\n",
        "1.3.2.1 Explain Ridge regression briefly in 1-2 lines.\n",
        "\n",
        "1.3.2.2 Implement Ridge regression and make a table of different RMSE scores you achieved with different values of alpha. What does the parameter `alpha` do?\n",
        "\n",
        "1.3.2.3 How does it affect the results here? Explain in 5-10 lines in total. (You can use scikit-learn from this cell onwards)\n",
        "\n",
        "1.3.2.4 Make a Parity Plot of Ridge Regression model's y-predictions on the test set with the actual values."
      ]
    },
    {
      "cell_type": "markdown",
      "id": "happy-cyprus",
      "metadata": {
        "id": "happy-cyprus"
      },
      "source": [
        "<!-- Your answer to 1.3.2.1 -->\n",
        "`1.3.2.1 Answer`\n",
        "\n",
        "Ridge regression is a model tuning method that is used to analyse any data that suffers from multicollinearity.\n",
        "\n",
        "   This method performs L2 regularization. When the issue of multicollinearity occurs, least-squares are unbiased, and variances are large, this results in predicted values being far away from the actual values. "
      ]
    },
    {
      "cell_type": "code",
      "execution_count": 15,
      "id": "02a50a51",
      "metadata": {
        "id": "02a50a51",
        "colab": {
          "base_uri": "https://localhost:8080/"
        },
        "outputId": "0fb0b107-0bf0-4286-e803-43746d931322"
      },
      "outputs": [
        {
          "output_type": "stream",
          "name": "stdout",
          "text": [
            "+-------------+---------------------+\n",
            "| Alpha Value |         RMSE        |\n",
            "+-------------+---------------------+\n",
            "|      1      | 0.07087132528642193 |\n",
            "|     0.75    | 0.06466111998220395 |\n",
            "|     0.5     |  0.0604991995665746 |\n",
            "|     0.25    | 0.06275940342847698 |\n",
            "|     0.1     | 0.10934861996811106 |\n",
            "|    0.075    | 0.13966189504992277 |\n",
            "|     0.05    |  0.1883462356986595 |\n",
            "|     0.03    | 0.24719544635551557 |\n",
            "|     0.02    | 0.28284048303599996 |\n",
            "|     0.01    |  0.3073870798290123 |\n",
            "|   0.00875   | 0.30616310853822143 |\n",
            "+-------------+---------------------+\n"
          ]
        }
      ],
      "source": [
        "# 1.3.2.2\n",
        "# you should not have imported sklearn before this point\n",
        "import sklearn\n",
        "from sklearn.linear_model import Ridge, RidgeCV, Lasso, LassoCV\n",
        "from sklearn.metrics import mean_squared_error\n",
        "from prettytable import PrettyTable\n",
        "  \n",
        "# Specify the Column Names while initializing the Table\n",
        "myTable = PrettyTable([\"Alpha Value\", \"RMSE\"])\n",
        "optimal_alpha=0\n",
        "min_MSE=1\n",
        "alpha_values=[1,0.75,0.5,0.25,0.1,0.075,0.05,0.03,0.02,0.01,0.00875]\n",
        "for alpha in alpha_values:\n",
        "  ridge = Ridge(alpha)\n",
        "  ridge.fit(x_train, y_train)             # Fit a ridge regression on the training data\n",
        "  pred = ridge.predict(x_test)           # Use this model to predict the test data\n",
        "  #print(pd.Series(ridge2.coef_, index = x_train.columns)) # Print coefficients\n",
        "  rmse=np.sqrt(mean_squared_error(y_test, pred))\n",
        "  if min_MSE>rmse:\n",
        "    min_MSE=rmse\n",
        "    optimal_alpha=alpha\n",
        "  myTable.add_row([alpha, rmse])\n",
        "  \n",
        "print(myTable)\n",
        "# implement Ridge regression and make a table where you explore the effect of different values of `alpha`"
      ]
    },
    {
      "cell_type": "code",
      "source": [],
      "metadata": {
        "id": "BIQcpvPJEL0T"
      },
      "id": "BIQcpvPJEL0T",
      "execution_count": null,
      "outputs": []
    },
    {
      "cell_type": "markdown",
      "id": "e54d36d9",
      "metadata": {
        "id": "e54d36d9"
      },
      "source": [
        "<!-- Your answer to 1.3.2.3 -->\n",
        "`1.3.2.3 Answer`\n",
        "\n",
        "Ridge regression is an extension of linear regression where the loss function is modified to minimize the complexity of the model. This modification is done by adding a penalty parameter that is equivalent to the square of the magnitude of the coefficients.\n",
        "\n",
        "`Loss function = OLS + alpha * summation (squared coefficient values)`\n",
        "\n",
        "In the above loss function, alpha is the parameter we need to select. A low alpha value can lead to over-fitting, whereas a high alpha value can lead to under-fitting."
      ]
    },
    {
      "cell_type": "code",
      "execution_count": 16,
      "id": "e9d2c1e8",
      "metadata": {
        "id": "e9d2c1e8",
        "colab": {
          "base_uri": "https://localhost:8080/",
          "height": 458
        },
        "outputId": "b1035d26-f1d2-44eb-9952-f4e3e7913b7b"
      },
      "outputs": [
        {
          "output_type": "display_data",
          "data": {
            "text/plain": [
              "<Figure size 504x504 with 1 Axes>"
            ],
            "image/png": "[encoded data removed]"
          },
          "metadata": {
            "needs_background": "light"
          }
        }
      ],
      "source": [
        "# 1.3.2.4\n",
        "\n",
        "fig, ax = plt.subplots(figsize=(7,7))\n",
        "ridge = Ridge(optimal_alpha)\n",
        "ridge.fit(x_train, y_train)             # Fit a ridge regression on the training data\n",
        "y_pred = ridge.predict(x_test)  \n",
        "ax.scatter(y_test, y_pred)\n",
        "\n",
        "lims = [\n",
        "    np.min([ax.get_xlim(), ax.get_ylim()]),\n",
        "    np.max([ax.get_xlim(), ax.get_ylim()]),\n",
        "]\n",
        "ax.plot(lims, lims, 'k-', alpha=0.75, zorder=0)\n",
        "ax.set_aspect('equal')\n",
        "ax.set_xlim(lims)\n",
        "ax.set_ylim(lims)\n",
        "\n",
        "ax.set_title('Parity Plot of Custom Ridge Regression')\n",
        "ax.set_xlabel('Ground truth y-values')\n",
        "ax.set_ylabel('Predicted y-values')\n",
        "plt.show()"
      ]
    },
    {
      "cell_type": "markdown",
      "id": "popular-wonder",
      "metadata": {
        "id": "popular-wonder"
      },
      "source": [
        "### 1.3.3 Implement Lasso Regression\n",
        "1.3.3.1 Explain Lasso regression briefly in 1-2 lines.\n",
        "\n",
        "1.3.3.2 Implement Lasso regression and make a table of different RMSE scores you achieved with different values of alpha.\n",
        "\n",
        "1.3.3.3 What does the parameter `alpha` do? How does it affect the results here? Explain in 5-10 lines in total.\n",
        "\n",
        "1.3.3.4 Make a Parity Plot of Lasso Regression model's y-predictions on the test set with the actual values."
      ]
    },
    {
      "cell_type": "markdown",
      "id": "mV9BlPIjm-K1",
      "metadata": {
        "id": "mV9BlPIjm-K1"
      },
      "source": [
        "<!-- Your answer to 1.3.3.1 -->\n",
        "`1.3.3.1 Answer`\n",
        "\n",
        "Lasso regression is a regularization technique. It is used over regression methods for a more accurate prediction. This model uses shrinkage. Shrinkage is where data values are shrunk towards a central point as the mean."
      ]
    },
    {
      "cell_type": "code",
      "execution_count": 19,
      "id": "09148bbc",
      "metadata": {
        "id": "09148bbc",
        "colab": {
          "base_uri": "https://localhost:8080/"
        },
        "outputId": "7b4cf852-de15-43dc-f73b-010762157330"
      },
      "outputs": [
        {
          "output_type": "stream",
          "name": "stdout",
          "text": [
            "+-------------+-----------------------+\n",
            "| Alpha Value |          RMSE         |\n",
            "+-------------+-----------------------+\n",
            "|      1      |   18.232285742914325  |\n",
            "|     0.75    |   10.229047388221325  |\n",
            "|     0.5     |   4.523047034072112   |\n",
            "|     0.25    |    1.11428468046669   |\n",
            "|     0.1     |  0.17170150856445557  |\n",
            "|    0.075    |  0.09500764326644891  |\n",
            "|     0.05    |  0.04128615797388026  |\n",
            "|     0.03    |  0.014849083343740656 |\n",
            "|     0.02    |  0.007143917229976103 |\n",
            "|     0.01    | 0.0017994532227576011 |\n",
            "|   0.00875   | 0.0008918582424448247 |\n",
            "+-------------+-----------------------+\n"
          ]
        }
      ],
      "source": [
        "# 1.3.3.2\n",
        "# implement Lasso regression and make a table where you explore the effect of different values of `alpha`\n",
        "# lassocv = LassoCV(alphas = None, cv = 10, max_iter = 100000)\n",
        "# lassocv.fit(x_train, y_train)\n",
        "myTable = PrettyTable([\"Alpha Value\", \"RMSE\"])\n",
        "optimal_alpha=0\n",
        "min_MSE=1\n",
        "alpha_values=[1,0.75,0.5,0.25,0.1,0.075,0.05,0.03,0.02,0.01,0.00875]\n",
        "for alpha in alpha_values:\n",
        "  lasso = Lasso(max_iter = 10000)\n",
        "  lasso.set_params(alpha=alpha)\n",
        "  lasso.fit(x_train, y_train)\n",
        "  rmse=mean_squared_error(y_test, lasso.predict(x_test))\n",
        "  if min_MSE>rmse:\n",
        "    min_MSE=rmse\n",
        "    optimal_alpha=alpha\n",
        "  myTable.add_row([alpha, rmse])\n",
        "  \n",
        "print(myTable)"
      ]
    },
    {
      "cell_type": "markdown",
      "id": "Hq5eyeqem-K2",
      "metadata": {
        "id": "Hq5eyeqem-K2"
      },
      "source": [
        "<!-- Your answer to 1.3.3.3 -->\n",
        "`1.3.3.3 Answer`\n",
        "\n",
        "  Lasso regression, or the Least Absolute Shrinkage and Selection Operator, is also a modification of linear regression. In Lasso, the loss function is modified to minimize the complexity of the model by limiting the sum of the absolute values of the model coefficients (also called the l1-norm).\n",
        "\n",
        "The loss function for Lasso Regression can be expressed as below:\n",
        "\n",
        "```Loss function = OLS + alpha * summation (absolute values of the magnitude of the coefficients)```\n",
        "\n",
        "In the above loss function, alpha is the penalty parameter we need to select. Using an l1 norm constraint forces some weight values to zero to allow other coefficients to take non-zero values."
      ]
    },
    {
      "cell_type": "code",
      "execution_count": 20,
      "id": "accompanied-worst",
      "metadata": {
        "id": "accompanied-worst",
        "colab": {
          "base_uri": "https://localhost:8080/",
          "height": 458
        },
        "outputId": "b69cd718-4558-4b99-9f98-e55aa9bf93b8"
      },
      "outputs": [
        {
          "output_type": "display_data",
          "data": {
            "text/plain": [
              "<Figure size 504x504 with 1 Axes>"
            ],
            "image/png": "[encoded data removed]"
          },
          "metadata": {
            "needs_background": "light"
          }
        }
      ],
      "source": [
        "# 1.3.3.4\n",
        "fig, ax = plt.subplots(figsize=(7,7)) \n",
        "lasso = Lasso(max_iter = 10000)\n",
        "lasso.set_params(alpha=optimal_alpha)\n",
        "lasso.fit(x_train, y_train)\n",
        "y_pred=lasso.predict(x_test)\n",
        "ax.scatter(y_test, y_pred)\n",
        "\n",
        "lims = [\n",
        "    np.min([ax.get_xlim(), ax.get_ylim()]),\n",
        "    np.max([ax.get_xlim(), ax.get_ylim()]),\n",
        "]\n",
        "ax.plot(lims, lims, 'k-', alpha=0.75, zorder=0)\n",
        "ax.set_aspect('equal')\n",
        "ax.set_xlim(lims)\n",
        "ax.set_ylim(lims)\n",
        "\n",
        "ax.set_title('Parity Plot of Custom Lasso Regression')\n",
        "ax.set_xlabel('Ground truth y-values')\n",
        "ax.set_ylabel('Predicted y-values')\n",
        "plt.show()"
      ]
    }
  ],
  "metadata": {
    "colab": {
      "provenance": []
    },
    "kernelspec": {
      "display_name": "Python 3 (ipykernel)",
      "language": "python",
      "name": "python3"
    },
    "language_info": {
      "codemirror_mode": {
        "name": "ipython",
        "version": 3
      },
      "file_extension": ".py",
      "mimetype": "text/x-python",
      "name": "python",
      "nbconvert_exporter": "python",
      "pygments_lexer": "ipython3",
      "version": "3.8.6"
    }
  },
  "nbformat": 4,
  "nbformat_minor": 5
}
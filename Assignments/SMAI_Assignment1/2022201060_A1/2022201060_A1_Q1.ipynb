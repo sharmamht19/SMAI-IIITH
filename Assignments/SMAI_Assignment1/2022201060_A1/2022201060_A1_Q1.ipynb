{
  "cells": [
    {
      "cell_type": "markdown",
      "metadata": {
        "id": "NSd3vc8oPt3b"
      },
      "source": [
        "# Assignment 1\n",
        "## Question `1` (K-Nearest Neighbour)\n",
        "\n",
        "| | |\n",
        "|-|-|\n",
        "| Course | Statistical Methods in AI |\n",
        "| Release Date | `19.01.2023` |\n",
        "| Due Date | `29.01.2023` |\n",
        "\n",
        "### Instructions:\n",
        "1.   Assignment must be implemented using python notebook only (Colab , VsCode , Jupyter etc.)\n",
        "2.   You are allowed to use libraries for data preprocessing (numpy, pandas, nltk etc) and for algorithms as well (sklearn etc). You are not however allowed to directly use classifier models.\n",
        "3.   The performance of the model will hold weightage but you will also be graded largely for data preprocessing steps , explanations , feature selection for vectors etc.\n",
        "4.   Strict plagiarism checking will be done. An F will be awarded for plagiarism.\n",
        "\n",
        "### The Dataset\n",
        "The dataset is avaible in the zip file which is a collection of *11099 tweets*. The data will be in the form of a csv file. The ground truth is also given in the zip file which corresponds to whether a tweet was popular or not. Since the task involves selecting features yourself to vectorize a tweet , we suggest some data analysis of the columns you consider important.\n",
        "<br><br>\n",
        "\n",
        "### The Task\n",
        "You have to build a classifier which can predict the popularity of the tweet, i.e , if the tweet was popular or not. You are required to use **KNN** algorithm to build the classifier and cannot use any inbuilt classifier. All columns are supposed to be analyzed , filtered and preprocessed to determine its importance as a feature in the vector for every tweet (Not every column will be useful).<br>\n",
        "The Data contains the **raw text of the tweet**(in the text column) as well as other **meta data** like likes count , user followers count. Note that it might be useful to **create new columns** with useful information. For example, *number of hashtags* might be useful but is not directly present as a column.<br>\n",
        "There are 3 main sub parts:\n",
        "1. *Vectorize tweets using only meta data* - likes , user followers count , and other created data\n",
        "2. *Vectorize tweets using only it's text*. This segment will require NLP techniques to clean the text and extract a vector using a BoW model. Here is a useful link for the same - [Tf-Idf](https://towardsdatascience.com/text-vectorization-term-frequency-inverse-document-frequency-tfidf-5a3f9604da6d). Since these vectors will be very large , we recommend reducing their dimensinality (~10 - 25). Hint: [Dimentionality Reduction](https://jonathan-hui.medium.com/machine-learning-singular-value-decomposition-svd-principal-component-analysis-pca-1d45e885e491). Please note that for this also you are allowed to use libraries.\n",
        "\n",
        "3. *Combining the vectors from above two techinques to create one bigger vector*\n",
        "<br>\n",
        "\n",
        "\n",
        "Using KNN on these vectors build a classifier to predict the popularity of the tweet and report accuracies on each of the three methods as well as analysis. You can use sklearn's Nearest Neighbors and need not write KNN from scratch. (However you cannot use the classifier directly). You are expected to try the classifier for different number of neighbors and identify the optimal K value."
      ]
    },
    {
      "cell_type": "markdown",
      "metadata": {
        "id": "0LJvylX8680U"
      },
      "source": [
        "## Import necessary libraries"
      ]
    },
    {
      "cell_type": "code",
      "execution_count": 57,
      "metadata": {
        "id": "UrD1GJ6-YA5M"
      },
      "outputs": [],
      "source": [
        "import pandas as pd\n",
        "import numpy as np\n",
        "from numpy import sqrt \n",
        "import json\n",
        "import matplotlib.pyplot as plt\n"
      ]
    },
    {
      "cell_type": "markdown",
      "metadata": {
        "id": "eoakVIVW7EOT"
      },
      "source": [
        "## Load and display the data"
      ]
    },
    {
      "cell_type": "code",
      "execution_count": 58,
      "metadata": {
        "id": "YRwXxW4WwEL8",
        "colab": {
          "base_uri": "https://localhost:8080/",
          "height": 908
        },
        "outputId": "6694709f-98b0-4c2e-a190-a0c06c88f8ae"
      },
      "outputs": [
        {
          "output_type": "execute_result",
          "data": {
            "text/plain": [
              "                       created_at            id        id_str  \\\n",
              "0  Tue Jul 31 13:34:34 +0000 2018  1.024290e+18  1.024290e+18   \n",
              "1  Tue Jul 31 13:34:14 +0000 2018  1.024290e+18  1.024290e+18   \n",
              "2  Tue Jul 31 13:34:40 +0000 2018  1.024290e+18  1.024290e+18   \n",
              "3  Tue Jul 31 13:34:27 +0000 2018  1.024290e+18  1.024290e+18   \n",
              "4  Tue Jul 31 13:34:28 +0000 2018  1.024290e+18  1.024290e+18   \n",
              "5  Tue Jul 31 13:34:27 +0000 2018  1.024290e+18  1.024290e+18   \n",
              "6  Tue Jul 31 13:34:35 +0000 2018  1.024290e+18  1.024290e+18   \n",
              "7  Tue Jul 31 13:34:13 +0000 2018  1.024290e+18  1.024290e+18   \n",
              "8  Tue Jul 31 13:34:34 +0000 2018  1.024290e+18  1.024290e+18   \n",
              "9  Tue Jul 31 13:34:25 +0000 2018  1.024290e+18  1.024290e+18   \n",
              "\n",
              "                                                text  truncated  \\\n",
              "0  RT @EdwardTHardy: The 7th US Circuit Court of ...      False   \n",
              "1  RT @VenomMovie: The world has enough superhero...      False   \n",
              "2  RT @FutbolBible: Teachers vs Students match &a...      False   \n",
              "3  RT @mashable: Someone from 'The Office' actual...      False   \n",
              "4  RT @_missj0hnson: Iâ€™m at Starbucks asking fo...      False   \n",
              "5  RT @baekaeri06: an exo-l doing a magic trick! ...      False   \n",
              "6  i really going to miss my girl i swear to god ...      False   \n",
              "7  @1Fubar @amandadonnell14 @sw18780774 Only a ta...      False   \n",
              "8  RT @timhiggins2287: Each year WSTS shows how W...      False   \n",
              "9  Thanks to @benjaminstaal00 for these fantastic...      False   \n",
              "\n",
              "                                            entities  \\\n",
              "0  {'hashtags': [], 'symbols': [], 'user_mentions...   \n",
              "1  {'hashtags': [{'text': 'Venom', 'indices': [64...   \n",
              "2  {'hashtags': [], 'symbols': [], 'user_mentions...   \n",
              "3  {'hashtags': [], 'symbols': [], 'user_mentions...   \n",
              "4  {'hashtags': [], 'symbols': [], 'user_mentions...   \n",
              "5  {'hashtags': [], 'symbols': [], 'user_mentions...   \n",
              "6  {'hashtags': [], 'symbols': [], 'user_mentions...   \n",
              "7  {'hashtags': [], 'symbols': [], 'user_mentions...   \n",
              "8  {'hashtags': [], 'symbols': [], 'user_mentions...   \n",
              "9  {'hashtags': [], 'symbols': [], 'user_mentions...   \n",
              "\n",
              "                                            metadata  \\\n",
              "0  {'iso_language_code': 'en', 'result_type': 're...   \n",
              "1  {'iso_language_code': 'en', 'result_type': 're...   \n",
              "2  {'iso_language_code': 'en', 'result_type': 're...   \n",
              "3  {'iso_language_code': 'en', 'result_type': 're...   \n",
              "4  {'iso_language_code': 'en', 'result_type': 're...   \n",
              "5  {'iso_language_code': 'en', 'result_type': 're...   \n",
              "6  {'iso_language_code': 'en', 'result_type': 're...   \n",
              "7  {'iso_language_code': 'en', 'result_type': 're...   \n",
              "8  {'iso_language_code': 'en', 'result_type': 're...   \n",
              "9  {'iso_language_code': 'en', 'result_type': 're...   \n",
              "\n",
              "                                              source  is_quote_status  \\\n",
              "0  <a href=\"http://twitter.com/download/android\" ...            False   \n",
              "1  <a href=\"http://twitter.com/download/android\" ...            False   \n",
              "2  <a href=\"http://twitter.com/download/iphone\" r...            False   \n",
              "3  <a href=\"http://twitter.com\" rel=\"nofollow\">Tw...            False   \n",
              "4  <a href=\"http://twitter.com/download/android\" ...            False   \n",
              "5  <a href=\"http://twitter.com/download/iphone\" r...            False   \n",
              "6  <a href=\"http://twitter.com/download/iphone\" r...            False   \n",
              "7  <a href=\"http://twitter.com/download/iphone\" r...            False   \n",
              "8  <a href=\"http://twitter.com/download/iphone\" r...             True   \n",
              "9  <a href=\"http://twitter.com\" rel=\"nofollow\">Tw...            False   \n",
              "\n",
              "   retweet_count  ...  lang                     user_name user_screen_name  \\\n",
              "0            113  ...    en                   Sherry Wahl   queenfancygirl   \n",
              "1           5902  ...    en              Kay Khairil ðŸŒ      ikaykhairil   \n",
              "2           3745  ...    en              Charlie Hamilton         ch100897   \n",
              "3             10  ...    en                   Mike Santos    mikesantosx71   \n",
              "4          25306  ...    en                         Soots  DaAverageDingus   \n",
              "5           1602  ...    en                tan god jongin        artychubs   \n",
              "6              0  ...    en                          ð’‰        6khhouri9   \n",
              "7              1  ...    en  Steven Andrew Dismas Kennedy  StevenAndrewDi1   \n",
              "8              1  ...    en                         WiSys         wisystto   \n",
              "9              0  ...    en    Ocean Youth Trust Scotland      OYTScotland   \n",
              "\n",
              "  user_followers_count  user_friends_count  user_listed_count  \\\n",
              "0                  153                 264                  7   \n",
              "1                  780                 382                 12   \n",
              "2                  255                 246                  1   \n",
              "3                 2419                2428                  4   \n",
              "4                  314                 722                  7   \n",
              "5                  577                 251                  6   \n",
              "6                   11                   5                  0   \n",
              "7                  820                1174                  1   \n",
              "8                 1111                 706                  0   \n",
              "9                 1267                1225                 18   \n",
              "\n",
              "                  user_created_at user_favourites_count  user_verified  \\\n",
              "0  Thu Mar 18 19:16:31 +0000 2010                 32984          False   \n",
              "1  Wed Mar 17 03:27:51 +0000 2010                  6648          False   \n",
              "2  Sun Mar 03 09:23:03 +0000 2013                  5426          False   \n",
              "3  Thu May 25 14:37:29 +0000 2017                  5993          False   \n",
              "4  Tue Mar 15 01:14:02 +0000 2011                  6285          False   \n",
              "5  Fri May 10 07:37:30 +0000 2013                  6136          False   \n",
              "6  Wed May 16 06:51:22 +0000 2018                     3          False   \n",
              "7  Mon Mar 12 03:00:11 +0000 2018                  3943          False   \n",
              "8  Fri May 01 13:53:58 +0000 2009                   143          False   \n",
              "9  Wed Nov 10 12:09:27 +0000 2010                  1002          False   \n",
              "\n",
              "   user_statuses_count  \n",
              "0                31308  \n",
              "1                87272  \n",
              "2                 1731  \n",
              "3                 2153  \n",
              "4                33503  \n",
              "5                11902  \n",
              "6                  220  \n",
              "7                 5024  \n",
              "8                 1584  \n",
              "9                 1189  \n",
              "\n",
              "[10 rows x 21 columns]"
            ],
            "text/html": [
              "\n",
              "  <div id=\"df-7765f0cc-4195-4c26-8c80-0f3b27813017\">\n",
              "    <div class=\"colab-df-container\">\n",
              "      <div>\n",
              "<style scoped>\n",
              "    .dataframe tbody tr th:only-of-type {\n",
              "        vertical-align: middle;\n",
              "    }\n",
              "\n",
              "    .dataframe tbody tr th {\n",
              "        vertical-align: top;\n",
              "    }\n",
              "\n",
              "    .dataframe thead th {\n",
              "        text-align: right;\n",
              "    }\n",
              "</style>\n",
              "<table border=\"1\" class=\"dataframe\">\n",
              "  <thead>\n",
              "    <tr style=\"text-align: right;\">\n",
              "      <th></th>\n",
              "      <th>created_at</th>\n",
              "      <th>id</th>\n",
              "      <th>id_str</th>\n",
              "      <th>text</th>\n",
              "      <th>truncated</th>\n",
              "      <th>entities</th>\n",
              "      <th>metadata</th>\n",
              "      <th>source</th>\n",
              "      <th>is_quote_status</th>\n",
              "      <th>retweet_count</th>\n",
              "      <th>...</th>\n",
              "      <th>lang</th>\n",
              "      <th>user_name</th>\n",
              "      <th>user_screen_name</th>\n",
              "      <th>user_followers_count</th>\n",
              "      <th>user_friends_count</th>\n",
              "      <th>user_listed_count</th>\n",
              "      <th>user_created_at</th>\n",
              "      <th>user_favourites_count</th>\n",
              "      <th>user_verified</th>\n",
              "      <th>user_statuses_count</th>\n",
              "    </tr>\n",
              "  </thead>\n",
              "  <tbody>\n",
              "    <tr>\n",
              "      <th>0</th>\n",
              "      <td>Tue Jul 31 13:34:34 +0000 2018</td>\n",
              "      <td>1.024290e+18</td>\n",
              "      <td>1.024290e+18</td>\n",
              "      <td>RT @EdwardTHardy: The 7th US Circuit Court of ...</td>\n",
              "      <td>False</td>\n",
              "      <td>{'hashtags': [], 'symbols': [], 'user_mentions...</td>\n",
              "      <td>{'iso_language_code': 'en', 'result_type': 're...</td>\n",
              "      <td>&lt;a href=\"http://twitter.com/download/android\" ...</td>\n",
              "      <td>False</td>\n",
              "      <td>113</td>\n",
              "      <td>...</td>\n",
              "      <td>en</td>\n",
              "      <td>Sherry Wahl</td>\n",
              "      <td>queenfancygirl</td>\n",
              "      <td>153</td>\n",
              "      <td>264</td>\n",
              "      <td>7</td>\n",
              "      <td>Thu Mar 18 19:16:31 +0000 2010</td>\n",
              "      <td>32984</td>\n",
              "      <td>False</td>\n",
              "      <td>31308</td>\n",
              "    </tr>\n",
              "    <tr>\n",
              "      <th>1</th>\n",
              "      <td>Tue Jul 31 13:34:14 +0000 2018</td>\n",
              "      <td>1.024290e+18</td>\n",
              "      <td>1.024290e+18</td>\n",
              "      <td>RT @VenomMovie: The world has enough superhero...</td>\n",
              "      <td>False</td>\n",
              "      <td>{'hashtags': [{'text': 'Venom', 'indices': [64...</td>\n",
              "      <td>{'iso_language_code': 'en', 'result_type': 're...</td>\n",
              "      <td>&lt;a href=\"http://twitter.com/download/android\" ...</td>\n",
              "      <td>False</td>\n",
              "      <td>5902</td>\n",
              "      <td>...</td>\n",
              "      <td>en</td>\n",
              "      <td>Kay Khairil ðŸŒ</td>\n",
              "      <td>ikaykhairil</td>\n",
              "      <td>780</td>\n",
              "      <td>382</td>\n",
              "      <td>12</td>\n",
              "      <td>Wed Mar 17 03:27:51 +0000 2010</td>\n",
              "      <td>6648</td>\n",
              "      <td>False</td>\n",
              "      <td>87272</td>\n",
              "    </tr>\n",
              "    <tr>\n",
              "      <th>2</th>\n",
              "      <td>Tue Jul 31 13:34:40 +0000 2018</td>\n",
              "      <td>1.024290e+18</td>\n",
              "      <td>1.024290e+18</td>\n",
              "      <td>RT @FutbolBible: Teachers vs Students match &amp;a...</td>\n",
              "      <td>False</td>\n",
              "      <td>{'hashtags': [], 'symbols': [], 'user_mentions...</td>\n",
              "      <td>{'iso_language_code': 'en', 'result_type': 're...</td>\n",
              "      <td>&lt;a href=\"http://twitter.com/download/iphone\" r...</td>\n",
              "      <td>False</td>\n",
              "      <td>3745</td>\n",
              "      <td>...</td>\n",
              "      <td>en</td>\n",
              "      <td>Charlie Hamilton</td>\n",
              "      <td>ch100897</td>\n",
              "      <td>255</td>\n",
              "      <td>246</td>\n",
              "      <td>1</td>\n",
              "      <td>Sun Mar 03 09:23:03 +0000 2013</td>\n",
              "      <td>5426</td>\n",
              "      <td>False</td>\n",
              "      <td>1731</td>\n",
              "    </tr>\n",
              "    <tr>\n",
              "      <th>3</th>\n",
              "      <td>Tue Jul 31 13:34:27 +0000 2018</td>\n",
              "      <td>1.024290e+18</td>\n",
              "      <td>1.024290e+18</td>\n",
              "      <td>RT @mashable: Someone from 'The Office' actual...</td>\n",
              "      <td>False</td>\n",
              "      <td>{'hashtags': [], 'symbols': [], 'user_mentions...</td>\n",
              "      <td>{'iso_language_code': 'en', 'result_type': 're...</td>\n",
              "      <td>&lt;a href=\"http://twitter.com\" rel=\"nofollow\"&gt;Tw...</td>\n",
              "      <td>False</td>\n",
              "      <td>10</td>\n",
              "      <td>...</td>\n",
              "      <td>en</td>\n",
              "      <td>Mike Santos</td>\n",
              "      <td>mikesantosx71</td>\n",
              "      <td>2419</td>\n",
              "      <td>2428</td>\n",
              "      <td>4</td>\n",
              "      <td>Thu May 25 14:37:29 +0000 2017</td>\n",
              "      <td>5993</td>\n",
              "      <td>False</td>\n",
              "      <td>2153</td>\n",
              "    </tr>\n",
              "    <tr>\n",
              "      <th>4</th>\n",
              "      <td>Tue Jul 31 13:34:28 +0000 2018</td>\n",
              "      <td>1.024290e+18</td>\n",
              "      <td>1.024290e+18</td>\n",
              "      <td>RT @_missj0hnson: Iâ€™m at Starbucks asking fo...</td>\n",
              "      <td>False</td>\n",
              "      <td>{'hashtags': [], 'symbols': [], 'user_mentions...</td>\n",
              "      <td>{'iso_language_code': 'en', 'result_type': 're...</td>\n",
              "      <td>&lt;a href=\"http://twitter.com/download/android\" ...</td>\n",
              "      <td>False</td>\n",
              "      <td>25306</td>\n",
              "      <td>...</td>\n",
              "      <td>en</td>\n",
              "      <td>Soots</td>\n",
              "      <td>DaAverageDingus</td>\n",
              "      <td>314</td>\n",
              "      <td>722</td>\n",
              "      <td>7</td>\n",
              "      <td>Tue Mar 15 01:14:02 +0000 2011</td>\n",
              "      <td>6285</td>\n",
              "      <td>False</td>\n",
              "      <td>33503</td>\n",
              "    </tr>\n",
              "    <tr>\n",
              "      <th>5</th>\n",
              "      <td>Tue Jul 31 13:34:27 +0000 2018</td>\n",
              "      <td>1.024290e+18</td>\n",
              "      <td>1.024290e+18</td>\n",
              "      <td>RT @baekaeri06: an exo-l doing a magic trick! ...</td>\n",
              "      <td>False</td>\n",
              "      <td>{'hashtags': [], 'symbols': [], 'user_mentions...</td>\n",
              "      <td>{'iso_language_code': 'en', 'result_type': 're...</td>\n",
              "      <td>&lt;a href=\"http://twitter.com/download/iphone\" r...</td>\n",
              "      <td>False</td>\n",
              "      <td>1602</td>\n",
              "      <td>...</td>\n",
              "      <td>en</td>\n",
              "      <td>tan god jongin</td>\n",
              "      <td>artychubs</td>\n",
              "      <td>577</td>\n",
              "      <td>251</td>\n",
              "      <td>6</td>\n",
              "      <td>Fri May 10 07:37:30 +0000 2013</td>\n",
              "      <td>6136</td>\n",
              "      <td>False</td>\n",
              "      <td>11902</td>\n",
              "    </tr>\n",
              "    <tr>\n",
              "      <th>6</th>\n",
              "      <td>Tue Jul 31 13:34:35 +0000 2018</td>\n",
              "      <td>1.024290e+18</td>\n",
              "      <td>1.024290e+18</td>\n",
              "      <td>i really going to miss my girl i swear to god ...</td>\n",
              "      <td>False</td>\n",
              "      <td>{'hashtags': [], 'symbols': [], 'user_mentions...</td>\n",
              "      <td>{'iso_language_code': 'en', 'result_type': 're...</td>\n",
              "      <td>&lt;a href=\"http://twitter.com/download/iphone\" r...</td>\n",
              "      <td>False</td>\n",
              "      <td>0</td>\n",
              "      <td>...</td>\n",
              "      <td>en</td>\n",
              "      <td>ð’‰</td>\n",
              "      <td>6khhouri9</td>\n",
              "      <td>11</td>\n",
              "      <td>5</td>\n",
              "      <td>0</td>\n",
              "      <td>Wed May 16 06:51:22 +0000 2018</td>\n",
              "      <td>3</td>\n",
              "      <td>False</td>\n",
              "      <td>220</td>\n",
              "    </tr>\n",
              "    <tr>\n",
              "      <th>7</th>\n",
              "      <td>Tue Jul 31 13:34:13 +0000 2018</td>\n",
              "      <td>1.024290e+18</td>\n",
              "      <td>1.024290e+18</td>\n",
              "      <td>@1Fubar @amandadonnell14 @sw18780774 Only a ta...</td>\n",
              "      <td>False</td>\n",
              "      <td>{'hashtags': [], 'symbols': [], 'user_mentions...</td>\n",
              "      <td>{'iso_language_code': 'en', 'result_type': 're...</td>\n",
              "      <td>&lt;a href=\"http://twitter.com/download/iphone\" r...</td>\n",
              "      <td>False</td>\n",
              "      <td>1</td>\n",
              "      <td>...</td>\n",
              "      <td>en</td>\n",
              "      <td>Steven Andrew Dismas Kennedy</td>\n",
              "      <td>StevenAndrewDi1</td>\n",
              "      <td>820</td>\n",
              "      <td>1174</td>\n",
              "      <td>1</td>\n",
              "      <td>Mon Mar 12 03:00:11 +0000 2018</td>\n",
              "      <td>3943</td>\n",
              "      <td>False</td>\n",
              "      <td>5024</td>\n",
              "    </tr>\n",
              "    <tr>\n",
              "      <th>8</th>\n",
              "      <td>Tue Jul 31 13:34:34 +0000 2018</td>\n",
              "      <td>1.024290e+18</td>\n",
              "      <td>1.024290e+18</td>\n",
              "      <td>RT @timhiggins2287: Each year WSTS shows how W...</td>\n",
              "      <td>False</td>\n",
              "      <td>{'hashtags': [], 'symbols': [], 'user_mentions...</td>\n",
              "      <td>{'iso_language_code': 'en', 'result_type': 're...</td>\n",
              "      <td>&lt;a href=\"http://twitter.com/download/iphone\" r...</td>\n",
              "      <td>True</td>\n",
              "      <td>1</td>\n",
              "      <td>...</td>\n",
              "      <td>en</td>\n",
              "      <td>WiSys</td>\n",
              "      <td>wisystto</td>\n",
              "      <td>1111</td>\n",
              "      <td>706</td>\n",
              "      <td>0</td>\n",
              "      <td>Fri May 01 13:53:58 +0000 2009</td>\n",
              "      <td>143</td>\n",
              "      <td>False</td>\n",
              "      <td>1584</td>\n",
              "    </tr>\n",
              "    <tr>\n",
              "      <th>9</th>\n",
              "      <td>Tue Jul 31 13:34:25 +0000 2018</td>\n",
              "      <td>1.024290e+18</td>\n",
              "      <td>1.024290e+18</td>\n",
              "      <td>Thanks to @benjaminstaal00 for these fantastic...</td>\n",
              "      <td>False</td>\n",
              "      <td>{'hashtags': [], 'symbols': [], 'user_mentions...</td>\n",
              "      <td>{'iso_language_code': 'en', 'result_type': 're...</td>\n",
              "      <td>&lt;a href=\"http://twitter.com\" rel=\"nofollow\"&gt;Tw...</td>\n",
              "      <td>False</td>\n",
              "      <td>0</td>\n",
              "      <td>...</td>\n",
              "      <td>en</td>\n",
              "      <td>Ocean Youth Trust Scotland</td>\n",
              "      <td>OYTScotland</td>\n",
              "      <td>1267</td>\n",
              "      <td>1225</td>\n",
              "      <td>18</td>\n",
              "      <td>Wed Nov 10 12:09:27 +0000 2010</td>\n",
              "      <td>1002</td>\n",
              "      <td>False</td>\n",
              "      <td>1189</td>\n",
              "    </tr>\n",
              "  </tbody>\n",
              "</table>\n",
              "<p>10 rows × 21 columns</p>\n",
              "</div>\n",
              "      <button class=\"colab-df-convert\" onclick=\"convertToInteractive('df-7765f0cc-4195-4c26-8c80-0f3b27813017')\"\n",
              "              title=\"Convert this dataframe to an interactive table.\"\n",
              "              style=\"display:none;\">\n",
              "        \n",
              "  <svg xmlns=\"http://www.w3.org/2000/svg\" height=\"24px\"viewBox=\"0 0 24 24\"\n",
              "       width=\"24px\">\n",
              "    <path d=\"M0 0h24v24H0V0z\" fill=\"none\"/>\n",
              "    <path d=\"M18.56 5.44l.94 2.06.94-2.06 2.06-.94-2.06-.94-.94-2.06-.94 2.06-2.06.94zm-11 1L8.5 8.5l.94-2.06 2.06-.94-2.06-.94L8.5 2.5l-.94 2.06-2.06.94zm10 10l.94 2.06.94-2.06 2.06-.94-2.06-.94-.94-2.06-.94 2.06-2.06.94z\"/><path d=\"M17.41 7.96l-1.37-1.37c-.4-.4-.92-.59-1.43-.59-.52 0-1.04.2-1.43.59L10.3 9.45l-7.72 7.72c-.78.78-.78 2.05 0 2.83L4 21.41c.39.39.9.59 1.41.59.51 0 1.02-.2 1.41-.59l7.78-7.78 2.81-2.81c.8-.78.8-2.07 0-2.86zM5.41 20L4 18.59l7.72-7.72 1.47 1.35L5.41 20z\"/>\n",
              "  </svg>\n",
              "      </button>\n",
              "      \n",
              "  <style>\n",
              "    .colab-df-container {\n",
              "      display:flex;\n",
              "      flex-wrap:wrap;\n",
              "      gap: 12px;\n",
              "    }\n",
              "\n",
              "    .colab-df-convert {\n",
              "      background-color: #E8F0FE;\n",
              "      border: none;\n",
              "      border-radius: 50%;\n",
              "      cursor: pointer;\n",
              "      display: none;\n",
              "      fill: #1967D2;\n",
              "      height: 32px;\n",
              "      padding: 0 0 0 0;\n",
              "      width: 32px;\n",
              "    }\n",
              "\n",
              "    .colab-df-convert:hover {\n",
              "      background-color: #E2EBFA;\n",
              "      box-shadow: 0px 1px 2px rgba(60, 64, 67, 0.3), 0px 1px 3px 1px rgba(60, 64, 67, 0.15);\n",
              "      fill: #174EA6;\n",
              "    }\n",
              "\n",
              "    [theme=dark] .colab-df-convert {\n",
              "      background-color: #3B4455;\n",
              "      fill: #D2E3FC;\n",
              "    }\n",
              "\n",
              "    [theme=dark] .colab-df-convert:hover {\n",
              "      background-color: #434B5C;\n",
              "      box-shadow: 0px 1px 3px 1px rgba(0, 0, 0, 0.15);\n",
              "      filter: drop-shadow(0px 1px 2px rgba(0, 0, 0, 0.3));\n",
              "      fill: #FFFFFF;\n",
              "    }\n",
              "  </style>\n",
              "\n",
              "      <script>\n",
              "        const buttonEl =\n",
              "          document.querySelector('#df-7765f0cc-4195-4c26-8c80-0f3b27813017 button.colab-df-convert');\n",
              "        buttonEl.style.display =\n",
              "          google.colab.kernel.accessAllowed ? 'block' : 'none';\n",
              "\n",
              "        async function convertToInteractive(key) {\n",
              "          const element = document.querySelector('#df-7765f0cc-4195-4c26-8c80-0f3b27813017');\n",
              "          const dataTable =\n",
              "            await google.colab.kernel.invokeFunction('convertToInteractive',\n",
              "                                                     [key], {});\n",
              "          if (!dataTable) return;\n",
              "\n",
              "          const docLinkHtml = 'Like what you see? Visit the ' +\n",
              "            '<a target=\"_blank\" href=https://colab.research.google.com/notebooks/data_table.ipynb>data table notebook</a>'\n",
              "            + ' to learn more about interactive tables.';\n",
              "          element.innerHTML = '';\n",
              "          dataTable['output_type'] = 'display_data';\n",
              "          await google.colab.output.renderOutput(dataTable, element);\n",
              "          const docLink = document.createElement('div');\n",
              "          docLink.innerHTML = docLinkHtml;\n",
              "          element.appendChild(docLink);\n",
              "        }\n",
              "      </script>\n",
              "    </div>\n",
              "  </div>\n",
              "  "
            ]
          },
          "metadata": {},
          "execution_count": 58
        }
      ],
      "source": [
        "#your code here\n",
        "df = pd.read_csv('Tweets.csv')\n",
        "df.head(10)"
      ]
    },
    {
      "cell_type": "code",
      "source": [
        "from google.colab import drive\n",
        "drive.mount('/content/drive')"
      ],
      "metadata": {
        "colab": {
          "base_uri": "https://localhost:8080/",
          "height": 336
        },
        "id": "6GomyQcWh_vD",
        "outputId": "85ecacaf-2948-4496-e1fd-65bb3b258ad1"
      },
      "execution_count": 36,
      "outputs": [
        {
          "output_type": "error",
          "ename": "MessageError",
          "evalue": "ignored",
          "traceback": [
            "\u001b[0;31m---------------------------------------------------------------------------\u001b[0m",
            "\u001b[0;31mMessageError\u001b[0m                              Traceback (most recent call last)",
            "\u001b[0;32m<ipython-input-36-d5df0069828e>\u001b[0m in \u001b[0;36m<module>\u001b[0;34m\u001b[0m\n\u001b[1;32m      1\u001b[0m \u001b[0;32mfrom\u001b[0m \u001b[0mgoogle\u001b[0m\u001b[0;34m.\u001b[0m\u001b[0mcolab\u001b[0m \u001b[0;32mimport\u001b[0m \u001b[0mdrive\u001b[0m\u001b[0;34m\u001b[0m\u001b[0;34m\u001b[0m\u001b[0m\n\u001b[0;32m----> 2\u001b[0;31m \u001b[0mdrive\u001b[0m\u001b[0;34m.\u001b[0m\u001b[0mmount\u001b[0m\u001b[0;34m(\u001b[0m\u001b[0;34m'/content/drive'\u001b[0m\u001b[0;34m)\u001b[0m\u001b[0;34m\u001b[0m\u001b[0;34m\u001b[0m\u001b[0m\n\u001b[0m",
            "\u001b[0;32m/usr/local/lib/python3.8/dist-packages/google/colab/drive.py\u001b[0m in \u001b[0;36mmount\u001b[0;34m(mountpoint, force_remount, timeout_ms, readonly)\u001b[0m\n\u001b[1;32m     99\u001b[0m \u001b[0;32mdef\u001b[0m \u001b[0mmount\u001b[0m\u001b[0;34m(\u001b[0m\u001b[0mmountpoint\u001b[0m\u001b[0;34m,\u001b[0m \u001b[0mforce_remount\u001b[0m\u001b[0;34m=\u001b[0m\u001b[0;32mFalse\u001b[0m\u001b[0;34m,\u001b[0m \u001b[0mtimeout_ms\u001b[0m\u001b[0;34m=\u001b[0m\u001b[0;36m120000\u001b[0m\u001b[0;34m,\u001b[0m \u001b[0mreadonly\u001b[0m\u001b[0;34m=\u001b[0m\u001b[0;32mFalse\u001b[0m\u001b[0;34m)\u001b[0m\u001b[0;34m:\u001b[0m\u001b[0;34m\u001b[0m\u001b[0;34m\u001b[0m\u001b[0m\n\u001b[1;32m    100\u001b[0m   \u001b[0;34m\"\"\"Mount your Google Drive at the specified mountpoint path.\"\"\"\u001b[0m\u001b[0;34m\u001b[0m\u001b[0;34m\u001b[0m\u001b[0m\n\u001b[0;32m--> 101\u001b[0;31m   return _mount(\n\u001b[0m\u001b[1;32m    102\u001b[0m       \u001b[0mmountpoint\u001b[0m\u001b[0;34m,\u001b[0m\u001b[0;34m\u001b[0m\u001b[0;34m\u001b[0m\u001b[0m\n\u001b[1;32m    103\u001b[0m       \u001b[0mforce_remount\u001b[0m\u001b[0;34m=\u001b[0m\u001b[0mforce_remount\u001b[0m\u001b[0;34m,\u001b[0m\u001b[0;34m\u001b[0m\u001b[0;34m\u001b[0m\u001b[0m\n",
            "\u001b[0;32m/usr/local/lib/python3.8/dist-packages/google/colab/drive.py\u001b[0m in \u001b[0;36m_mount\u001b[0;34m(mountpoint, force_remount, timeout_ms, ephemeral, readonly)\u001b[0m\n\u001b[1;32m    122\u001b[0m       'TBE_EPHEM_CREDS_ADDR'] if ephemeral else _os.environ['TBE_CREDS_ADDR']\n\u001b[1;32m    123\u001b[0m   \u001b[0;32mif\u001b[0m \u001b[0mephemeral\u001b[0m\u001b[0;34m:\u001b[0m\u001b[0;34m\u001b[0m\u001b[0;34m\u001b[0m\u001b[0m\n\u001b[0;32m--> 124\u001b[0;31m     _message.blocking_request(\n\u001b[0m\u001b[1;32m    125\u001b[0m         'request_auth', request={'authType': 'dfs_ephemeral'}, timeout_sec=None)\n\u001b[1;32m    126\u001b[0m \u001b[0;34m\u001b[0m\u001b[0m\n",
            "\u001b[0;32m/usr/local/lib/python3.8/dist-packages/google/colab/_message.py\u001b[0m in \u001b[0;36mblocking_request\u001b[0;34m(request_type, request, timeout_sec, parent)\u001b[0m\n\u001b[1;32m    169\u001b[0m   request_id = send_request(\n\u001b[1;32m    170\u001b[0m       request_type, request, parent=parent, expect_reply=True)\n\u001b[0;32m--> 171\u001b[0;31m   \u001b[0;32mreturn\u001b[0m \u001b[0mread_reply_from_input\u001b[0m\u001b[0;34m(\u001b[0m\u001b[0mrequest_id\u001b[0m\u001b[0;34m,\u001b[0m \u001b[0mtimeout_sec\u001b[0m\u001b[0;34m)\u001b[0m\u001b[0;34m\u001b[0m\u001b[0;34m\u001b[0m\u001b[0m\n\u001b[0m",
            "\u001b[0;32m/usr/local/lib/python3.8/dist-packages/google/colab/_message.py\u001b[0m in \u001b[0;36mread_reply_from_input\u001b[0;34m(message_id, timeout_sec)\u001b[0m\n\u001b[1;32m    100\u001b[0m         reply.get('colab_msg_id') == message_id):\n\u001b[1;32m    101\u001b[0m       \u001b[0;32mif\u001b[0m \u001b[0;34m'error'\u001b[0m \u001b[0;32min\u001b[0m \u001b[0mreply\u001b[0m\u001b[0;34m:\u001b[0m\u001b[0;34m\u001b[0m\u001b[0;34m\u001b[0m\u001b[0m\n\u001b[0;32m--> 102\u001b[0;31m         \u001b[0;32mraise\u001b[0m \u001b[0mMessageError\u001b[0m\u001b[0;34m(\u001b[0m\u001b[0mreply\u001b[0m\u001b[0;34m[\u001b[0m\u001b[0;34m'error'\u001b[0m\u001b[0;34m]\u001b[0m\u001b[0;34m)\u001b[0m\u001b[0;34m\u001b[0m\u001b[0;34m\u001b[0m\u001b[0m\n\u001b[0m\u001b[1;32m    103\u001b[0m       \u001b[0;32mreturn\u001b[0m \u001b[0mreply\u001b[0m\u001b[0;34m.\u001b[0m\u001b[0mget\u001b[0m\u001b[0;34m(\u001b[0m\u001b[0;34m'data'\u001b[0m\u001b[0;34m,\u001b[0m \u001b[0;32mNone\u001b[0m\u001b[0;34m)\u001b[0m\u001b[0;34m\u001b[0m\u001b[0;34m\u001b[0m\u001b[0m\n\u001b[1;32m    104\u001b[0m \u001b[0;34m\u001b[0m\u001b[0m\n",
            "\u001b[0;31mMessageError\u001b[0m: Error: credential propagation was unsuccessful"
          ]
        }
      ]
    },
    {
      "cell_type": "code",
      "execution_count": null,
      "metadata": {
        "id": "WAH13731wPS5"
      },
      "outputs": [],
      "source": []
    },
    {
      "cell_type": "markdown",
      "metadata": {
        "id": "ywNXO3TpwQkV"
      },
      "source": [
        "## Exploratory Data Analysis\n",
        "*This is an ungraded section but is recommended to get a good grasp on the dataset*"
      ]
    },
    {
      "cell_type": "code",
      "execution_count": null,
      "metadata": {
        "id": "Nl8EwC77wqX4"
      },
      "outputs": [],
      "source": [
        "# your code here\n"
      ]
    },
    {
      "cell_type": "markdown",
      "metadata": {
        "id": "Mztyk9Kew7q1"
      },
      "source": [
        "## Part-1\n",
        "*Vectorize tweets using only meta data*"
      ]
    },
    {
      "cell_type": "code",
      "execution_count": 59,
      "metadata": {
        "id": "y-rDkUtVxQph",
        "colab": {
          "base_uri": "https://localhost:8080/"
        },
        "outputId": "311f4ed4-d6ad-4bc9-f524-0e15e5c74dd4"
      },
      "outputs": [
        {
          "output_type": "stream",
          "name": "stdout",
          "text": [
            "(8879, 8)\n",
            "(2220, 8)\n",
            "(8879,)\n",
            "(2220,)\n"
          ]
        }
      ],
      "source": [
        "from sklearn.preprocessing import StandardScaler\n",
        "def get_features(df):\n",
        "  \"\"\"\n",
        "  Funtion to return a matrix of dimensions (number of tweets, number of chosen features)\n",
        "  Input parameters to this funcion are to be chosen as per requirement (Example: Loaded dataframe of the dataset) \n",
        "  \"\"\"\n",
        "  op=df.drop(['created_at','id','id_str','text','truncated','entities','metadata','source','user_created_at',\t'is_quote_status','lang','user_name','user_screen_name'], axis='columns')\n",
        "  # op.drop(11098,inplace=True)\n",
        "  op.head()\n",
        "  return op\n",
        "features= get_features(df)\n",
        "labels=pd.read_csv('ground_truth.csv', header = None)\n",
        "labelt=np.array(labels.iloc[:,:])\n",
        "labels=labelt.reshape(-1)\n",
        "scaler = StandardScaler()\n",
        "scaled_features = scaler.fit_transform(features)\n",
        "scaled_features\n",
        "from sklearn.model_selection import train_test_split\n",
        "X_train, X_test, y_train, y_test = train_test_split(scaled_features, labels, test_size=0.2)\n",
        "print(X_train.shape)\n",
        "print(X_test.shape)\n",
        "print(y_train.shape)\n",
        "print(y_test.shape)"
      ]
    },
    {
      "cell_type": "markdown",
      "metadata": {
        "id": "4K7Fzh5Q4wrV"
      },
      "source": [
        "Perform KNN using the vector obtained from get_features() function. Following are the steps to be followed:\n",
        "1. Normalise the vectors\n",
        "2. Split the data into training and test to estimate the performance.\n",
        "3. Fit the Nearest Neughbiurs module to the training data and obtain the predicted class by getting the nearest neighbours on the test data.\n",
        "4. Report the accuracy, chosen k-value and method used to obtain the predicted class. Hint: Plot accuracies for a range of k-values. "
      ]
    },
    {
      "cell_type": "code",
      "execution_count": 75,
      "metadata": {
        "id": "EBHGbdsi4fe-",
        "colab": {
          "base_uri": "https://localhost:8080/",
          "height": 813
        },
        "outputId": "08f9b25d-d440-4c03-9761-ce37a2611b76"
      },
      "outputs": [
        {
          "output_type": "stream",
          "name": "stdout",
          "text": [
            "At k= 1 Accuracy = 0.9463963963963964\n",
            "At k= 2 Accuracy = 0.9441441441441442\n",
            "At k= 3 Accuracy = 0.9432432432432433\n",
            "At k= 4 Accuracy = 0.9445945945945946\n",
            "At k= 5 Accuracy = 0.9427927927927928\n",
            "At k= 6 Accuracy = 0.9454954954954955\n",
            "At k= 7 Accuracy = 0.9477477477477477\n",
            "At k= 8 Accuracy = 0.9490990990990991\n",
            "At k= 9 Accuracy = 0.9468468468468468\n",
            "At k= 10 Accuracy = 0.9459459459459459\n",
            "At k= 11 Accuracy = 0.9459459459459459\n",
            "At k= 12 Accuracy = 0.9472972972972973\n",
            "At k= 13 Accuracy = 0.945045045045045\n",
            "At k= 14 Accuracy = 0.9454954954954955\n",
            "At k= 15 Accuracy = 0.9414414414414415\n",
            "At k= 16 Accuracy = 0.945045045045045\n",
            "At k= 17 Accuracy = 0.9436936936936937\n",
            "At k= 18 Accuracy = 0.9454954954954955\n",
            "At k= 19 Accuracy = 0.9436936936936937\n",
            "At k= 20 Accuracy = 0.9436936936936937\n",
            "At k= 21 Accuracy = 0.9432432432432433\n",
            "At k= 22 Accuracy = 0.9432432432432433\n",
            "At k= 23 Accuracy = 0.9418918918918919\n",
            "At k= 24 Accuracy = 0.9436936936936937\n",
            "At k= 25 Accuracy = 0.9418918918918919\n",
            "At k= 26 Accuracy = 0.940990990990991\n",
            "At k= 27 Accuracy = 0.940990990990991\n",
            "At k= 28 Accuracy = 0.940990990990991\n",
            "At k= 29 Accuracy = 0.94009009009009\n"
          ]
        },
        {
          "output_type": "display_data",
          "data": {
            "text/plain": [
              "<Figure size 432x288 with 1 Axes>"
            ],
            "image/png": "[encoded data removed]"
          },
          "metadata": {
            "needs_background": "light"
          }
        }
      ],
      "source": [
        "# your code here\n",
        "from sklearn.metrics import accuracy_score\n",
        "from collections import Counter\n",
        "from sklearn.neighbors import NearestNeighbors\n",
        "\n",
        "\n",
        "\n",
        "def euclidean_distance(row1, row2):\n",
        "    distance = 0.0\n",
        "    for i in range(len(row1)-1):\n",
        "      distance += (row1[i] - row2[i])**2\n",
        "    return sqrt(distance)\n",
        "class KNN_Classifier:\n",
        "  y_new_test=[]\n",
        "  def __init__(self, k):\n",
        "    self.k=k\n",
        "  def fit(self,X_train, y_train):\n",
        "    print(\"fit called\")\n",
        "  def score(self,X_train, y_train, X_test,y_test):\n",
        "    nbrs = NearestNeighbors(n_neighbors=self.k).fit(X_train)\n",
        "    indices = nbrs.kneighbors(X_test,return_distance=False)\n",
        "    score_sum=0\n",
        "    for i in range(len(indices)):\n",
        "      count=[0,0]\n",
        "      for j in range(self.k):\n",
        "        if(y_train[indices[i][j]]==0):\n",
        "          count[0]+=1\n",
        "        else:\n",
        "          count[1]+=1\n",
        "      if(count[0]>= count[1] and y_test[i] == 0):\n",
        "        score_sum+=1\n",
        "      if(count[0] < count[1] and y_test[i] == 1):\n",
        "        score_sum+=1\n",
        "\n",
        "    scr=score_sum/len(y_test)\n",
        "    print(\"At k=\",self.k,\"Accuracy =\",scr)\n",
        "    return scr\n",
        "scores = list()\n",
        "k_values = list()\n",
        "#knn = KNeighborsClassifier(n_neighbors=5)\n",
        "for k in range(1,30):\n",
        "  knn=KNN_Classifier(k)\n",
        "#knn.fit(X_train, y_train)\n",
        "  k_values.append(k)\n",
        "  scores.append(knn.score(X_train, y_train,X_test,y_test))\n",
        "plt.plot(k_values, scores, color='green', linestyle='dashed', linewidth = 3,\n",
        "         marker='o', markerfacecolor='blue', markersize=12)\n",
        "  \n",
        "plt.ylim(0.9,1)\n",
        "plt.xlim(1,30)\n",
        "plt.xlabel('k - values')\n",
        "plt.ylabel('Accuracy')\n",
        "  \n",
        "plt.title('Accuracies for a range of k-values')\n",
        "plt.show()\n"
      ]
    },
    {
      "cell_type": "code",
      "source": [
        "plt.plot(k_values, scores, color='green', linestyle='dashed', linewidth = 3,\n",
        "         marker='o', markerfacecolor='blue', markersize=12)\n",
        "  \n",
        "plt.ylim(0.9,1)\n",
        "plt.xlim(1,30)\n",
        "\n",
        "plt.xlabel('k - values')\n",
        "plt.ylabel('Accuracy')\n",
        "  \n",
        "plt.title('Accuracies for a range of k-values')\n",
        "plt.show()"
      ],
      "metadata": {
        "colab": {
          "base_uri": "https://localhost:8080/",
          "height": 295
        },
        "id": "eJHzEu60vigQ",
        "outputId": "d2368b14-70d5-4d2c-d09a-7c8c66676709"
      },
      "execution_count": 61,
      "outputs": [
        {
          "output_type": "display_data",
          "data": {
            "text/plain": [
              "<Figure size 432x288 with 1 Axes>"
            ],
            "image/png": "[encoded data removed]"
          },
          "metadata": {
            "needs_background": "light"
          }
        }
      ]
    },
    {
      "cell_type": "markdown",
      "metadata": {
        "id": "vSufXze8zmV3"
      },
      "source": [
        "## Part-2\n",
        "Vectorize tweets based on the text. More details and reference links can be checked on the Tasks list in the start of the notebook"
      ]
    },
    {
      "cell_type": "code",
      "execution_count": 62,
      "metadata": {
        "id": "GBizLGhg0kQT",
        "colab": {
          "base_uri": "https://localhost:8080/"
        },
        "outputId": "640fd2db-d1bc-4b6b-c60b-6fc4b9831ab8"
      },
      "outputs": [
        {
          "output_type": "stream",
          "name": "stdout",
          "text": [
            "(8879, 20)\n",
            "(2220, 20)\n",
            "(8879,)\n",
            "(2220,)\n"
          ]
        }
      ],
      "source": [
        "import re\n",
        "from sklearn.feature_extraction.text import TfidfVectorizer \n",
        "def tweet_vectoriser(df):\n",
        "  \"\"\"\n",
        "  Funtion to return a matrix of dimensions (number of tweets, number of features extracted per tweet)\n",
        "  Following are the steps for be followed:\n",
        "    1. Remove links, tags and hashtags from each tweet.\n",
        "    2. Apply TF-IDF on the tweets to extract a vector. \n",
        "    3. Perform dimensionality reduction on the obtained vector. \n",
        "  Input parameters to this funcion are to be chosen as per requirement (Example: Array of tweets) \n",
        "  \"\"\"\n",
        "  op=df.drop(['created_at','id','retweet_count', 'favorite_count', 'user_followers_count', 'user_friends_count', 'user_listed_count', 'user_favourites_count', 'user_verified','user_statuses_count','id_str','truncated','entities','metadata','source','user_created_at',\t'is_quote_status','lang','user_name','user_screen_name'], axis='columns')\n",
        "  count=0\n",
        "  for tweet in op['text']:\n",
        "    tweet = re.sub(\"@[A-Za-z0-9_]+\",\"\", tweet)\n",
        "    tweet = re.sub(\"http[^\\s]+\",\"\", tweet)\n",
        "    op.at[count,'text']= re.sub(\"#[A-Za-z0-9_]+\",\"\", tweet)\n",
        "    count=count+1\n",
        "  label = op['text']\n",
        "  tfidfconverter = TfidfVectorizer(max_features=20, min_df=5, max_df=0.7, stop_words='english').fit(label)\n",
        "  X = tfidfconverter.transform(label)\n",
        "  return X\n",
        "features=tweet_vectoriser(df)\n",
        "import scipy.sparse\n",
        "features=pd.DataFrame.sparse.from_spmatrix(features)\n",
        "features=features.sparse.to_dense()\n",
        "scaler = StandardScaler()\n",
        "scaled_features = scaler.fit_transform(features)\n",
        "scaled_features\n",
        "from sklearn.model_selection import train_test_split\n",
        "X_train, X_test, y_train, y_test = train_test_split(scaled_features, labels, test_size=0.2)\n",
        "print(X_train.shape)\n",
        "print(X_test.shape)\n",
        "print(y_train.shape)\n",
        "print(y_test.shape)"
      ]
    },
    {
      "cell_type": "code",
      "source": [
        "scaled_features"
      ],
      "metadata": {
        "colab": {
          "base_uri": "https://localhost:8080/"
        },
        "id": "wTX6C3btM32C",
        "outputId": "e23d7399-7105-4655-af24-2e0670794aaf"
      },
      "execution_count": 63,
      "outputs": [
        {
          "output_type": "execute_result",
          "data": {
            "text/plain": [
              "array([[-0.20360861, -0.14935838, -0.17203908, ..., -0.17703873,\n",
              "        -0.10746129, -0.2974743 ],\n",
              "       [-0.20360861, -0.14935838, -0.17203908, ...,  4.73345455,\n",
              "        -0.10746129, -0.2974743 ],\n",
              "       [ 2.00102454, -0.14935838, -0.17203908, ..., -0.17703873,\n",
              "        -0.10746129,  3.55267105],\n",
              "       ...,\n",
              "       [-0.20360861, -0.14935838, -0.17203908, ..., -0.17703873,\n",
              "        -0.10746129, -0.2974743 ],\n",
              "       [-0.20360861, -0.14935838, -0.17203908, ..., -0.17703873,\n",
              "        -0.10746129, -0.2974743 ],\n",
              "       [-0.20360861, -0.14935838, -0.17203908, ..., -0.17703873,\n",
              "        -0.10746129, -0.2974743 ]])"
            ]
          },
          "metadata": {},
          "execution_count": 63
        }
      ]
    },
    {
      "cell_type": "markdown",
      "metadata": {
        "id": "3Q47SVkv9VzO"
      },
      "source": [
        "Perform KNN using the vector obtained from tweet_vectoriser() function. Following are the steps to be followed:\n",
        "\n",
        "1. Normalise the vectors\n",
        "2. Split the data into training and test to estimate the performance.\n",
        "3. Fit the Nearest Neughbiurs module to the training data and obtain the predicted class by getting the nearest neighbours on the test data.\n",
        "4. Report the accuracy, chosen k-value and method used to obtain the predicted class. Hint: Plot accuracies for a range of k-values."
      ]
    },
    {
      "cell_type": "code",
      "execution_count": 76,
      "metadata": {
        "id": "7aDr7vAW-NX_",
        "colab": {
          "base_uri": "https://localhost:8080/",
          "height": 813
        },
        "outputId": "fd69e4d4-4eae-4dbb-9fac-27eea66f899f"
      },
      "outputs": [
        {
          "output_type": "stream",
          "name": "stdout",
          "text": [
            "At k= 1 Accuracy = 0.9463963963963964\n",
            "At k= 2 Accuracy = 0.9441441441441442\n",
            "At k= 3 Accuracy = 0.9432432432432433\n",
            "At k= 4 Accuracy = 0.9445945945945946\n",
            "At k= 5 Accuracy = 0.9427927927927928\n",
            "At k= 6 Accuracy = 0.9454954954954955\n",
            "At k= 7 Accuracy = 0.9477477477477477\n",
            "At k= 8 Accuracy = 0.9490990990990991\n",
            "At k= 9 Accuracy = 0.9468468468468468\n",
            "At k= 10 Accuracy = 0.9459459459459459\n",
            "At k= 11 Accuracy = 0.9459459459459459\n",
            "At k= 12 Accuracy = 0.9472972972972973\n",
            "At k= 13 Accuracy = 0.945045045045045\n",
            "At k= 14 Accuracy = 0.9454954954954955\n",
            "At k= 15 Accuracy = 0.9414414414414415\n",
            "At k= 16 Accuracy = 0.945045045045045\n",
            "At k= 17 Accuracy = 0.9436936936936937\n",
            "At k= 18 Accuracy = 0.9454954954954955\n",
            "At k= 19 Accuracy = 0.9436936936936937\n",
            "At k= 20 Accuracy = 0.9436936936936937\n",
            "At k= 21 Accuracy = 0.9432432432432433\n",
            "At k= 22 Accuracy = 0.9432432432432433\n",
            "At k= 23 Accuracy = 0.9418918918918919\n",
            "At k= 24 Accuracy = 0.9436936936936937\n",
            "At k= 25 Accuracy = 0.9418918918918919\n",
            "At k= 26 Accuracy = 0.940990990990991\n",
            "At k= 27 Accuracy = 0.940990990990991\n",
            "At k= 28 Accuracy = 0.940990990990991\n",
            "At k= 29 Accuracy = 0.94009009009009\n"
          ]
        },
        {
          "output_type": "display_data",
          "data": {
            "text/plain": [
              "<Figure size 432x288 with 1 Axes>"
            ],
            "image/png": "[encoded data removed]"
          },
          "metadata": {
            "needs_background": "light"
          }
        }
      ],
      "source": [
        "# your code here\n",
        "\n",
        "scores = list()\n",
        "k_values = list()\n",
        "#knn = KNeighborsClassifier(n_neighbors=5)\n",
        "for k in range(1,30):\n",
        "  knn=KNN_Classifier(k)\n",
        "#knn.fit(X_train, y_train)\n",
        "  k_values.append(k)\n",
        "  scores.append(knn.score(X_train, y_train,X_test,y_test))\n",
        "plt.plot(k_values, scores, color='green', linestyle='dashed', linewidth = 3,\n",
        "         marker='o', markerfacecolor='blue', markersize=12)\n",
        "  \n",
        "plt.ylim(0.8,1)\n",
        "plt.xlim(1,30)\n",
        "\n",
        "plt.xlabel('k - values')\n",
        "plt.ylabel('Accuracy')\n",
        "  \n",
        "plt.title('Accuracies for a range of k-values')\n",
        "plt.show()"
      ]
    },
    {
      "cell_type": "markdown",
      "metadata": {
        "id": "Rg7hD8-O3PbO"
      },
      "source": [
        "## Part-3\n",
        "### Subpart-1"
      ]
    },
    {
      "cell_type": "markdown",
      "metadata": {
        "id": "Bp9TVeVD9lKe"
      },
      "source": [
        "Combine both the vectors obtained from the tweet_vectoriser() and get_features()"
      ]
    },
    {
      "cell_type": "code",
      "execution_count": 67,
      "metadata": {
        "id": "r5ksyj7_3_xl",
        "colab": {
          "base_uri": "https://localhost:8080/"
        },
        "outputId": "d86fbced-6cc0-4f17-d2c2-4c9b97c92694"
      },
      "outputs": [
        {
          "output_type": "stream",
          "name": "stderr",
          "text": [
            "/usr/local/lib/python3.8/dist-packages/sklearn/utils/validation.py:1688: FutureWarning: Feature names only support names that are all strings. Got feature names with dtypes: ['int', 'str']. An error will be raised in 1.2.\n",
            "  warnings.warn(\n",
            "/usr/local/lib/python3.8/dist-packages/sklearn/utils/validation.py:1688: FutureWarning: Feature names only support names that are all strings. Got feature names with dtypes: ['int', 'str']. An error will be raised in 1.2.\n",
            "  warnings.warn(\n"
          ]
        },
        {
          "output_type": "stream",
          "name": "stdout",
          "text": [
            "At k= 5 Accuracy = 0.9427927927927928\n"
          ]
        },
        {
          "output_type": "execute_result",
          "data": {
            "text/plain": [
              "[0.9427927927927928]"
            ]
          },
          "metadata": {},
          "execution_count": 67
        }
      ],
      "source": [
        "# your code here\n",
        "\n",
        "import scipy.sparse\n",
        "features=tweet_vectoriser(df)\n",
        "features=pd.DataFrame.sparse.from_spmatrix(features)\n",
        "features_from_text=features.sparse.to_dense()\n",
        "#features_from_text\n",
        "features_from_meta=get_features(df)\n",
        "#features_from_meta\n",
        "features = pd.concat([features_from_meta, features_from_text], axis=1)\n",
        "#features\n",
        "scaler = StandardScaler()\n",
        "scaled_features = scaler.fit_transform(features)\n",
        "scaled_features\n",
        "from sklearn.model_selection import train_test_split\n",
        "X_train, X_test, y_train, y_test = train_test_split(scaled_features, labels, test_size=0.2)\n",
        "scores = list()\n",
        "knn=KNN_Classifier(5)\n",
        "scores.append(knn.score(X_train, y_train,X_test,y_test))\n",
        "scores\n"
      ]
    },
    {
      "cell_type": "markdown",
      "metadata": {
        "id": "swCD5Jp69xo5"
      },
      "source": [
        "Perform KNN using the vector obtained in the previous step. Following are the steps to be followed:\n",
        "\n",
        "1. Normalise the vectors\n",
        "2. Split the data into training and test to estimate the performance.\n",
        "3. Fit the Nearest Neughbiurs module to the training data and obtain the predicted class by getting the nearest neighbours on the test data.\n",
        "4. Report the accuracy, chosen k-value and method used to obtain the predicted class. Hint: Plot accuracies for a range of k-values."
      ]
    },
    {
      "cell_type": "code",
      "execution_count": 69,
      "metadata": {
        "id": "rufknWgo4AvY",
        "colab": {
          "base_uri": "https://localhost:8080/",
          "height": 813
        },
        "outputId": "f8aae6f9-a6a2-4bba-c459-923ff003978d"
      },
      "outputs": [
        {
          "output_type": "stream",
          "name": "stdout",
          "text": [
            "At k= 1 Accuracy = 0.9463963963963964\n",
            "At k= 2 Accuracy = 0.9441441441441442\n",
            "At k= 3 Accuracy = 0.9432432432432433\n",
            "At k= 4 Accuracy = 0.9445945945945946\n",
            "At k= 5 Accuracy = 0.9427927927927928\n",
            "At k= 6 Accuracy = 0.9454954954954955\n",
            "At k= 7 Accuracy = 0.9477477477477477\n",
            "At k= 8 Accuracy = 0.9490990990990991\n",
            "At k= 9 Accuracy = 0.9468468468468468\n",
            "At k= 10 Accuracy = 0.9459459459459459\n",
            "At k= 11 Accuracy = 0.9459459459459459\n",
            "At k= 12 Accuracy = 0.9472972972972973\n",
            "At k= 13 Accuracy = 0.945045045045045\n",
            "At k= 14 Accuracy = 0.9454954954954955\n",
            "At k= 15 Accuracy = 0.9414414414414415\n",
            "At k= 16 Accuracy = 0.945045045045045\n",
            "At k= 17 Accuracy = 0.9436936936936937\n",
            "At k= 18 Accuracy = 0.9454954954954955\n",
            "At k= 19 Accuracy = 0.9436936936936937\n",
            "At k= 20 Accuracy = 0.9436936936936937\n",
            "At k= 21 Accuracy = 0.9432432432432433\n",
            "At k= 22 Accuracy = 0.9432432432432433\n",
            "At k= 23 Accuracy = 0.9418918918918919\n",
            "At k= 24 Accuracy = 0.9436936936936937\n",
            "At k= 25 Accuracy = 0.9418918918918919\n",
            "At k= 26 Accuracy = 0.940990990990991\n",
            "At k= 27 Accuracy = 0.940990990990991\n",
            "At k= 28 Accuracy = 0.940990990990991\n",
            "At k= 29 Accuracy = 0.94009009009009\n"
          ]
        },
        {
          "output_type": "display_data",
          "data": {
            "text/plain": [
              "<Figure size 432x288 with 1 Axes>"
            ],
            "image/png": "[encoded data removed]"
          },
          "metadata": {
            "needs_background": "light"
          }
        }
      ],
      "source": [
        "# your code here\n",
        "scores = list()\n",
        "k_values = list()\n",
        "#knn = KNeighborsClassifier(n_neighbors=5)\n",
        "for k in range(1,30):\n",
        "  knn=KNN_Classifier(k)\n",
        "#knn.fit(X_train, y_train)\n",
        "  k_values.append(k)\n",
        "  scores.append(knn.score(X_train, y_train,X_test,y_test))\n",
        "plt.plot(k_values, scores, color='green', linestyle='dashed', linewidth = 3,\n",
        "         marker='o', markerfacecolor='blue', markersize=12)\n",
        "  \n",
        "plt.ylim(0.9,1)\n",
        "plt.xlim(1,30)\n",
        "\n",
        "plt.xlabel('k - values')\n",
        "plt.ylabel('Accuracy')\n",
        "  \n",
        "plt.title('Accuracies for a range of k-values')\n",
        "plt.show()"
      ]
    },
    {
      "cell_type": "markdown",
      "source": [],
      "metadata": {
        "id": "_TiBZCTihtoy"
      }
    },
    {
      "cell_type": "markdown",
      "metadata": {
        "id": "1NVQLLhE3c79"
      },
      "source": [
        "### Subpart-2\n",
        "\n",
        "Explain the differences between the accuracies obtained in each part above based on the features used."
      ]
    },
    {
      "cell_type": "markdown",
      "metadata": {
        "id": "VkiTeqaE_4ic"
      },
      "source": [
        "##differences between the accuracies obtained in each part\n",
        "Vectorize tweets using only meta data - likes , user followers count , and other created data gives 96.89 % accuracy and Vectorize tweets using only it's text gives 91% accuracy. Combining the vectors from above two techinques to create one bigger vector then gives 94.5% accuracy.\n",
        "\n",
        "Vectorize tweets using only it's text has less accuracy becouse text may  be in different-different languages and working with numerical values is efficient than working with text."
      ]
    }
  ],
  "metadata": {
    "colab": {
      "provenance": []
    },
    "kernelspec": {
      "display_name": "Python 3",
      "language": "python",
      "name": "python3"
    },
    "language_info": {
      "codemirror_mode": {
        "name": "ipython",
        "version": 3
      },
      "file_extension": ".py",
      "mimetype": "text/x-python",
      "name": "python",
      "nbconvert_exporter": "python",
      "pygments_lexer": "ipython3",
      "version": "3.9.6"
    },
    "vscode": {
      "interpreter": {
        "hash": "31f2aee4e71d21fbe5cf8b01ff0e069b9275f58929596ceb00d14d90e3e16cd6"
      }
    }
  },
  "nbformat": 4,
  "nbformat_minor": 0
}